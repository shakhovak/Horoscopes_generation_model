{
  "nbformat": 4,
  "nbformat_minor": 0,
  "metadata": {
    "colab": {
      "provenance": [],
      "gpuType": "T4",
      "authorship_tag": "ABX9TyPHEi/e9JyJufwjuX09qAgs"
    },
    "kernelspec": {
      "name": "python3",
      "display_name": "Python 3"
    },
    "language_info": {
      "name": "python"
    },
    "accelerator": "GPU"
  },
  "cells": [
    {
      "cell_type": "code",
      "execution_count": 1,
      "metadata": {
        "id": "sk7PhHr8k3sJ"
      },
      "outputs": [],
      "source": [
        "import pandas as pd\n",
        "import numpy as np\n",
        "from sklearn import metrics\n",
        "import warnings\n",
        "warnings.filterwarnings(\"ignore\")"
      ]
    },
    {
      "cell_type": "code",
      "source": [
        "from google.colab import drive\n",
        "drive.mount('/content/drive')"
      ],
      "metadata": {
        "colab": {
          "base_uri": "https://localhost:8080/"
        },
        "id": "YZw7RKhslPhx",
        "outputId": "d06449bc-ce51-40fe-eeb0-cabecf284955"
      },
      "execution_count": 2,
      "outputs": [
        {
          "output_type": "stream",
          "name": "stdout",
          "text": [
            "Drive already mounted at /content/drive; to attempt to forcibly remount, call drive.mount(\"/content/drive\", force_remount=True).\n"
          ]
        }
      ]
    },
    {
      "cell_type": "code",
      "source": [
        "df = pd.read_csv('/content/drive/MyDrive/Data/fin_horo.csv')\n",
        "df"
      ],
      "metadata": {
        "colab": {
          "base_uri": "https://localhost:8080/",
          "height": 423
        },
        "id": "JefDBs5DlXVk",
        "outputId": "fc6db50b-5262-4cf5-9a6e-eb70bfb3f419"
      },
      "execution_count": 3,
      "outputs": [
        {
          "output_type": "execute_result",
          "data": {
            "text/plain": [
              "       Unnamed: 0        date    zodiac  \\\n",
              "0              50  2023-08-07      Овен   \n",
              "1              51  2023-08-07     Телец   \n",
              "2              52  2023-08-07  Близнецы   \n",
              "3              53  2023-08-07       Рак   \n",
              "4              54  2023-08-07       Лев   \n",
              "...           ...         ...       ...   \n",
              "87937      256050  2023-08-29       Рак   \n",
              "87938      256052  2023-08-29      Дева   \n",
              "87939      256056  2023-08-29   Козерог   \n",
              "87940      256057  2023-08-29   Водолей   \n",
              "87941      256058  2023-08-29      Рыбы   \n",
              "\n",
              "                                                    horo  \\\n",
              "0      Сегодня Овнам стоит провести утро не просто сп...   \n",
              "1      Сегодня Тельцам стоит лениться до обеда – пуст...   \n",
              "2      Сегодня Близнецы думают только о деньгах – их ...   \n",
              "3      Сегодня Ракам стоит провести утро лениво – для...   \n",
              "4      Сегодня у Львов есть возможность исполнить нес...   \n",
              "...                                                  ...   \n",
              "87937  Дорогие Раки, а не пора ли вам заняться своими...   \n",
              "87938  Если вас, дорогие Девы, так и подмывает ввязат...   \n",
              "87939  Неуёмные амбиции Козерогов требуют повышения с...   \n",
              "87940  Успешный день для тех Водолеев, кто занимается...   \n",
              "87941  Сегодняшний день благоприятен для подписания д...   \n",
              "\n",
              "                                                  source  len  \n",
              "0                          https://horoscopes.rambler.ru  380  \n",
              "1                          https://horoscopes.rambler.ru  369  \n",
              "2                          https://horoscopes.rambler.ru  378  \n",
              "3                          https://horoscopes.rambler.ru  369  \n",
              "4                          https://horoscopes.rambler.ru  357  \n",
              "...                                                  ...  ...  \n",
              "87937  https://astroscope.ru/horoskop/ejednevniy_goro...  403  \n",
              "87938  https://astroscope.ru/horoskop/ejednevniy_goro...  490  \n",
              "87939  https://astroscope.ru/horoskop/ejednevniy_goro...  455  \n",
              "87940  https://astroscope.ru/horoskop/ejednevniy_goro...  389  \n",
              "87941  https://astroscope.ru/horoskop/ejednevniy_goro...  466  \n",
              "\n",
              "[87942 rows x 6 columns]"
            ],
            "text/html": [
              "\n",
              "  <div id=\"df-09399a84-8522-4bc7-8ca3-c5a0a5092ac6\" class=\"colab-df-container\">\n",
              "    <div>\n",
              "<style scoped>\n",
              "    .dataframe tbody tr th:only-of-type {\n",
              "        vertical-align: middle;\n",
              "    }\n",
              "\n",
              "    .dataframe tbody tr th {\n",
              "        vertical-align: top;\n",
              "    }\n",
              "\n",
              "    .dataframe thead th {\n",
              "        text-align: right;\n",
              "    }\n",
              "</style>\n",
              "<table border=\"1\" class=\"dataframe\">\n",
              "  <thead>\n",
              "    <tr style=\"text-align: right;\">\n",
              "      <th></th>\n",
              "      <th>Unnamed: 0</th>\n",
              "      <th>date</th>\n",
              "      <th>zodiac</th>\n",
              "      <th>horo</th>\n",
              "      <th>source</th>\n",
              "      <th>len</th>\n",
              "    </tr>\n",
              "  </thead>\n",
              "  <tbody>\n",
              "    <tr>\n",
              "      <th>0</th>\n",
              "      <td>50</td>\n",
              "      <td>2023-08-07</td>\n",
              "      <td>Овен</td>\n",
              "      <td>Сегодня Овнам стоит провести утро не просто сп...</td>\n",
              "      <td>https://horoscopes.rambler.ru</td>\n",
              "      <td>380</td>\n",
              "    </tr>\n",
              "    <tr>\n",
              "      <th>1</th>\n",
              "      <td>51</td>\n",
              "      <td>2023-08-07</td>\n",
              "      <td>Телец</td>\n",
              "      <td>Сегодня Тельцам стоит лениться до обеда – пуст...</td>\n",
              "      <td>https://horoscopes.rambler.ru</td>\n",
              "      <td>369</td>\n",
              "    </tr>\n",
              "    <tr>\n",
              "      <th>2</th>\n",
              "      <td>52</td>\n",
              "      <td>2023-08-07</td>\n",
              "      <td>Близнецы</td>\n",
              "      <td>Сегодня Близнецы думают только о деньгах – их ...</td>\n",
              "      <td>https://horoscopes.rambler.ru</td>\n",
              "      <td>378</td>\n",
              "    </tr>\n",
              "    <tr>\n",
              "      <th>3</th>\n",
              "      <td>53</td>\n",
              "      <td>2023-08-07</td>\n",
              "      <td>Рак</td>\n",
              "      <td>Сегодня Ракам стоит провести утро лениво – для...</td>\n",
              "      <td>https://horoscopes.rambler.ru</td>\n",
              "      <td>369</td>\n",
              "    </tr>\n",
              "    <tr>\n",
              "      <th>4</th>\n",
              "      <td>54</td>\n",
              "      <td>2023-08-07</td>\n",
              "      <td>Лев</td>\n",
              "      <td>Сегодня у Львов есть возможность исполнить нес...</td>\n",
              "      <td>https://horoscopes.rambler.ru</td>\n",
              "      <td>357</td>\n",
              "    </tr>\n",
              "    <tr>\n",
              "      <th>...</th>\n",
              "      <td>...</td>\n",
              "      <td>...</td>\n",
              "      <td>...</td>\n",
              "      <td>...</td>\n",
              "      <td>...</td>\n",
              "      <td>...</td>\n",
              "    </tr>\n",
              "    <tr>\n",
              "      <th>87937</th>\n",
              "      <td>256050</td>\n",
              "      <td>2023-08-29</td>\n",
              "      <td>Рак</td>\n",
              "      <td>Дорогие Раки, а не пора ли вам заняться своими...</td>\n",
              "      <td>https://astroscope.ru/horoskop/ejednevniy_goro...</td>\n",
              "      <td>403</td>\n",
              "    </tr>\n",
              "    <tr>\n",
              "      <th>87938</th>\n",
              "      <td>256052</td>\n",
              "      <td>2023-08-29</td>\n",
              "      <td>Дева</td>\n",
              "      <td>Если вас, дорогие Девы, так и подмывает ввязат...</td>\n",
              "      <td>https://astroscope.ru/horoskop/ejednevniy_goro...</td>\n",
              "      <td>490</td>\n",
              "    </tr>\n",
              "    <tr>\n",
              "      <th>87939</th>\n",
              "      <td>256056</td>\n",
              "      <td>2023-08-29</td>\n",
              "      <td>Козерог</td>\n",
              "      <td>Неуёмные амбиции Козерогов требуют повышения с...</td>\n",
              "      <td>https://astroscope.ru/horoskop/ejednevniy_goro...</td>\n",
              "      <td>455</td>\n",
              "    </tr>\n",
              "    <tr>\n",
              "      <th>87940</th>\n",
              "      <td>256057</td>\n",
              "      <td>2023-08-29</td>\n",
              "      <td>Водолей</td>\n",
              "      <td>Успешный день для тех Водолеев, кто занимается...</td>\n",
              "      <td>https://astroscope.ru/horoskop/ejednevniy_goro...</td>\n",
              "      <td>389</td>\n",
              "    </tr>\n",
              "    <tr>\n",
              "      <th>87941</th>\n",
              "      <td>256058</td>\n",
              "      <td>2023-08-29</td>\n",
              "      <td>Рыбы</td>\n",
              "      <td>Сегодняшний день благоприятен для подписания д...</td>\n",
              "      <td>https://astroscope.ru/horoskop/ejednevniy_goro...</td>\n",
              "      <td>466</td>\n",
              "    </tr>\n",
              "  </tbody>\n",
              "</table>\n",
              "<p>87942 rows × 6 columns</p>\n",
              "</div>\n",
              "    <div class=\"colab-df-buttons\">\n",
              "\n",
              "  <div class=\"colab-df-container\">\n",
              "    <button class=\"colab-df-convert\" onclick=\"convertToInteractive('df-09399a84-8522-4bc7-8ca3-c5a0a5092ac6')\"\n",
              "            title=\"Convert this dataframe to an interactive table.\"\n",
              "            style=\"display:none;\">\n",
              "\n",
              "  <svg xmlns=\"http://www.w3.org/2000/svg\" height=\"24px\" viewBox=\"0 -960 960 960\">\n",
              "    <path d=\"M120-120v-720h720v720H120Zm60-500h600v-160H180v160Zm220 220h160v-160H400v160Zm0 220h160v-160H400v160ZM180-400h160v-160H180v160Zm440 0h160v-160H620v160ZM180-180h160v-160H180v160Zm440 0h160v-160H620v160Z\"/>\n",
              "  </svg>\n",
              "    </button>\n",
              "\n",
              "  <style>\n",
              "    .colab-df-container {\n",
              "      display:flex;\n",
              "      gap: 12px;\n",
              "    }\n",
              "\n",
              "    .colab-df-convert {\n",
              "      background-color: #E8F0FE;\n",
              "      border: none;\n",
              "      border-radius: 50%;\n",
              "      cursor: pointer;\n",
              "      display: none;\n",
              "      fill: #1967D2;\n",
              "      height: 32px;\n",
              "      padding: 0 0 0 0;\n",
              "      width: 32px;\n",
              "    }\n",
              "\n",
              "    .colab-df-convert:hover {\n",
              "      background-color: #E2EBFA;\n",
              "      box-shadow: 0px 1px 2px rgba(60, 64, 67, 0.3), 0px 1px 3px 1px rgba(60, 64, 67, 0.15);\n",
              "      fill: #174EA6;\n",
              "    }\n",
              "\n",
              "    .colab-df-buttons div {\n",
              "      margin-bottom: 4px;\n",
              "    }\n",
              "\n",
              "    [theme=dark] .colab-df-convert {\n",
              "      background-color: #3B4455;\n",
              "      fill: #D2E3FC;\n",
              "    }\n",
              "\n",
              "    [theme=dark] .colab-df-convert:hover {\n",
              "      background-color: #434B5C;\n",
              "      box-shadow: 0px 1px 3px 1px rgba(0, 0, 0, 0.15);\n",
              "      filter: drop-shadow(0px 1px 2px rgba(0, 0, 0, 0.3));\n",
              "      fill: #FFFFFF;\n",
              "    }\n",
              "  </style>\n",
              "\n",
              "    <script>\n",
              "      const buttonEl =\n",
              "        document.querySelector('#df-09399a84-8522-4bc7-8ca3-c5a0a5092ac6 button.colab-df-convert');\n",
              "      buttonEl.style.display =\n",
              "        google.colab.kernel.accessAllowed ? 'block' : 'none';\n",
              "\n",
              "      async function convertToInteractive(key) {\n",
              "        const element = document.querySelector('#df-09399a84-8522-4bc7-8ca3-c5a0a5092ac6');\n",
              "        const dataTable =\n",
              "          await google.colab.kernel.invokeFunction('convertToInteractive',\n",
              "                                                    [key], {});\n",
              "        if (!dataTable) return;\n",
              "\n",
              "        const docLinkHtml = 'Like what you see? Visit the ' +\n",
              "          '<a target=\"_blank\" href=https://colab.research.google.com/notebooks/data_table.ipynb>data table notebook</a>'\n",
              "          + ' to learn more about interactive tables.';\n",
              "        element.innerHTML = '';\n",
              "        dataTable['output_type'] = 'display_data';\n",
              "        await google.colab.output.renderOutput(dataTable, element);\n",
              "        const docLink = document.createElement('div');\n",
              "        docLink.innerHTML = docLinkHtml;\n",
              "        element.appendChild(docLink);\n",
              "      }\n",
              "    </script>\n",
              "  </div>\n",
              "\n",
              "\n",
              "<div id=\"df-8725733a-035d-452e-804e-9df9c9cd7c88\">\n",
              "  <button class=\"colab-df-quickchart\" onclick=\"quickchart('df-8725733a-035d-452e-804e-9df9c9cd7c88')\"\n",
              "            title=\"Suggest charts.\"\n",
              "            style=\"display:none;\">\n",
              "\n",
              "<svg xmlns=\"http://www.w3.org/2000/svg\" height=\"24px\"viewBox=\"0 0 24 24\"\n",
              "     width=\"24px\">\n",
              "    <g>\n",
              "        <path d=\"M19 3H5c-1.1 0-2 .9-2 2v14c0 1.1.9 2 2 2h14c1.1 0 2-.9 2-2V5c0-1.1-.9-2-2-2zM9 17H7v-7h2v7zm4 0h-2V7h2v10zm4 0h-2v-4h2v4z\"/>\n",
              "    </g>\n",
              "</svg>\n",
              "  </button>\n",
              "\n",
              "<style>\n",
              "  .colab-df-quickchart {\n",
              "    background-color: #E8F0FE;\n",
              "    border: none;\n",
              "    border-radius: 50%;\n",
              "    cursor: pointer;\n",
              "    display: none;\n",
              "    fill: #1967D2;\n",
              "    height: 32px;\n",
              "    padding: 0 0 0 0;\n",
              "    width: 32px;\n",
              "  }\n",
              "\n",
              "  .colab-df-quickchart:hover {\n",
              "    background-color: #E2EBFA;\n",
              "    box-shadow: 0px 1px 2px rgba(60, 64, 67, 0.3), 0px 1px 3px 1px rgba(60, 64, 67, 0.15);\n",
              "    fill: #174EA6;\n",
              "  }\n",
              "\n",
              "  [theme=dark] .colab-df-quickchart {\n",
              "    background-color: #3B4455;\n",
              "    fill: #D2E3FC;\n",
              "  }\n",
              "\n",
              "  [theme=dark] .colab-df-quickchart:hover {\n",
              "    background-color: #434B5C;\n",
              "    box-shadow: 0px 1px 3px 1px rgba(0, 0, 0, 0.15);\n",
              "    filter: drop-shadow(0px 1px 2px rgba(0, 0, 0, 0.3));\n",
              "    fill: #FFFFFF;\n",
              "  }\n",
              "</style>\n",
              "\n",
              "  <script>\n",
              "    async function quickchart(key) {\n",
              "      const charts = await google.colab.kernel.invokeFunction(\n",
              "          'suggestCharts', [key], {});\n",
              "    }\n",
              "    (() => {\n",
              "      let quickchartButtonEl =\n",
              "        document.querySelector('#df-8725733a-035d-452e-804e-9df9c9cd7c88 button');\n",
              "      quickchartButtonEl.style.display =\n",
              "        google.colab.kernel.accessAllowed ? 'block' : 'none';\n",
              "    })();\n",
              "  </script>\n",
              "</div>\n",
              "    </div>\n",
              "  </div>\n"
            ]
          },
          "metadata": {},
          "execution_count": 3
        }
      ]
    },
    {
      "cell_type": "code",
      "source": [
        "!pip install transformers"
      ],
      "metadata": {
        "colab": {
          "base_uri": "https://localhost:8080/"
        },
        "id": "KMOhOmUolyIl",
        "outputId": "0ad18479-fca6-4612-9c05-f488994ea221"
      },
      "execution_count": 4,
      "outputs": [
        {
          "output_type": "stream",
          "name": "stdout",
          "text": [
            "Requirement already satisfied: transformers in /usr/local/lib/python3.10/dist-packages (4.32.1)\n",
            "Requirement already satisfied: filelock in /usr/local/lib/python3.10/dist-packages (from transformers) (3.12.2)\n",
            "Requirement already satisfied: huggingface-hub<1.0,>=0.15.1 in /usr/local/lib/python3.10/dist-packages (from transformers) (0.16.4)\n",
            "Requirement already satisfied: numpy>=1.17 in /usr/local/lib/python3.10/dist-packages (from transformers) (1.23.5)\n",
            "Requirement already satisfied: packaging>=20.0 in /usr/local/lib/python3.10/dist-packages (from transformers) (23.1)\n",
            "Requirement already satisfied: pyyaml>=5.1 in /usr/local/lib/python3.10/dist-packages (from transformers) (6.0.1)\n",
            "Requirement already satisfied: regex!=2019.12.17 in /usr/local/lib/python3.10/dist-packages (from transformers) (2023.6.3)\n",
            "Requirement already satisfied: requests in /usr/local/lib/python3.10/dist-packages (from transformers) (2.31.0)\n",
            "Requirement already satisfied: tokenizers!=0.11.3,<0.14,>=0.11.1 in /usr/local/lib/python3.10/dist-packages (from transformers) (0.13.3)\n",
            "Requirement already satisfied: safetensors>=0.3.1 in /usr/local/lib/python3.10/dist-packages (from transformers) (0.3.3)\n",
            "Requirement already satisfied: tqdm>=4.27 in /usr/local/lib/python3.10/dist-packages (from transformers) (4.66.1)\n",
            "Requirement already satisfied: fsspec in /usr/local/lib/python3.10/dist-packages (from huggingface-hub<1.0,>=0.15.1->transformers) (2023.6.0)\n",
            "Requirement already satisfied: typing-extensions>=3.7.4.3 in /usr/local/lib/python3.10/dist-packages (from huggingface-hub<1.0,>=0.15.1->transformers) (4.7.1)\n",
            "Requirement already satisfied: charset-normalizer<4,>=2 in /usr/local/lib/python3.10/dist-packages (from requests->transformers) (3.2.0)\n",
            "Requirement already satisfied: idna<4,>=2.5 in /usr/local/lib/python3.10/dist-packages (from requests->transformers) (3.4)\n",
            "Requirement already satisfied: urllib3<3,>=1.21.1 in /usr/local/lib/python3.10/dist-packages (from requests->transformers) (2.0.4)\n",
            "Requirement already satisfied: certifi>=2017.4.17 in /usr/local/lib/python3.10/dist-packages (from requests->transformers) (2023.7.22)\n"
          ]
        }
      ]
    },
    {
      "cell_type": "code",
      "source": [
        "!pip install sentencepiece"
      ],
      "metadata": {
        "colab": {
          "base_uri": "https://localhost:8080/"
        },
        "id": "hjaJsn9xmHvh",
        "outputId": "94af0b72-eb91-4c21-8272-7d5f3656142f"
      },
      "execution_count": 5,
      "outputs": [
        {
          "output_type": "stream",
          "name": "stdout",
          "text": [
            "Requirement already satisfied: sentencepiece in /usr/local/lib/python3.10/dist-packages (0.1.99)\n"
          ]
        }
      ]
    },
    {
      "cell_type": "code",
      "source": [
        "from sklearn.model_selection import train_test_split\n",
        "\n",
        "train_df, val_df = train_test_split(df[['zodiac', 'horo']], test_size = 0.3,\n",
        "                                   random_state=42)\n",
        "train_df = train_df.reset_index(drop= True)\n",
        "val_df = val_df.reset_index(drop = True)\n",
        "train_df.shape, val_df.shape"
      ],
      "metadata": {
        "colab": {
          "base_uri": "https://localhost:8080/"
        },
        "id": "2zgvZNtz9aSq",
        "outputId": "5358a889-609d-48c3-9572-e629fcb01014"
      },
      "execution_count": 6,
      "outputs": [
        {
          "output_type": "execute_result",
          "data": {
            "text/plain": [
              "((61559, 2), (26383, 2))"
            ]
          },
          "metadata": {},
          "execution_count": 6
        }
      ]
    },
    {
      "cell_type": "code",
      "source": [
        "import torch\n",
        "device = torch.device ('cuda' if torch.cuda.is_available() else 'cpu')\n",
        "device"
      ],
      "metadata": {
        "colab": {
          "base_uri": "https://localhost:8080/"
        },
        "id": "OMSTkebO9feZ",
        "outputId": "469d690f-fe49-4b44-cb53-821e17582c29"
      },
      "execution_count": 7,
      "outputs": [
        {
          "output_type": "execute_result",
          "data": {
            "text/plain": [
              "device(type='cuda')"
            ]
          },
          "metadata": {},
          "execution_count": 7
        }
      ]
    },
    {
      "cell_type": "code",
      "source": [
        "train_df = train_df.rename(columns = {'zodiac': 'source_text', 'horo':'target_text'})\n",
        "val_df = val_df.rename(columns = {'zodiac': 'source_text', 'horo':'target_text'})"
      ],
      "metadata": {
        "id": "TKjAHpZG9jRc"
      },
      "execution_count": 8,
      "outputs": []
    },
    {
      "cell_type": "code",
      "source": [
        "from transformers import AutoTokenizer, AutoModelForSeq2SeqLM\n",
        "\n",
        "tokenizer = AutoTokenizer.from_pretrained(\"ai-forever/ruT5-base\")\n",
        "model = AutoModelForSeq2SeqLM.from_pretrained(\"ai-forever/ruT5-base\")"
      ],
      "metadata": {
        "colab": {
          "base_uri": "https://localhost:8080/"
        },
        "id": "7UDIQqizlokA",
        "outputId": "b6c73f26-904c-4a3a-dc4b-f037d816ac01"
      },
      "execution_count": 9,
      "outputs": [
        {
          "output_type": "stream",
          "name": "stderr",
          "text": [
            "You are using the default legacy behaviour of the <class 'transformers.models.t5.tokenization_t5.T5Tokenizer'>. If you see this, DO NOT PANIC! This is expected, and simply means that the `legacy` (previous) behavior will be used so nothing changes for you. If you want to use the new behaviour, set `legacy=True`. This should only be set if you understand what it means, and thouroughly read the reason why this was added as explained in https://github.com/huggingface/transformers/pull/24565\n"
          ]
        }
      ]
    },
    {
      "cell_type": "markdown",
      "source": [
        "# New Section"
      ],
      "metadata": {
        "id": "pyN667pq_VDg"
      }
    },
    {
      "cell_type": "code",
      "source": [
        "from torch.utils.data import Dataset\n",
        "class AdditionDataset(Dataset):\n",
        "    \"\"\"\n",
        "        \"\"\"\n",
        "\n",
        "    def __init__(self, sentences, targets, tokenizer, max_len):\n",
        "        self.tokenizer = tokenizer\n",
        "        self.max_len = max_len\n",
        "        self.sentences = sentences\n",
        "        self.targets = targets\n",
        "\n",
        "    def __len__(self):\n",
        "        return len(self.sentences)\n",
        "\n",
        "    def __getitem__(self, index):\n",
        "        sentence = str(self.sentences[index])\n",
        "        sentence = \" \".join(sentence.split())\n",
        "        target = self.targets[index]\n",
        "\n",
        "        inputs = self.tokenizer.encode_plus(\n",
        "            sentence\n",
        "                                )\n",
        "        return {\"input_ids\":self.tokenizer(sentence)['input_ids'], \"labels\":self.tokenizer(target)['input_ids']}\n",
        "\n"
      ],
      "metadata": {
        "id": "_JNat2ExmKx1"
      },
      "execution_count": 10,
      "outputs": []
    },
    {
      "cell_type": "code",
      "source": [
        "train_dataset = AdditionDataset(train_df['source_text'].tolist(),\n",
        "                                train_df['target_text'].tolist(), tokenizer, 500)\n",
        "test_dataset = AdditionDataset(val_df['source_text'].tolist(),\n",
        "                                val_df['target_text'].tolist(), tokenizer, 500)\n",
        "next(iter(test_dataset))"
      ],
      "metadata": {
        "colab": {
          "base_uri": "https://localhost:8080/"
        },
        "id": "ommOJiE0mzlw",
        "outputId": "860b8397-b28f-46dd-de3f-b5737660b32c"
      },
      "execution_count": 11,
      "outputs": [
        {
          "output_type": "execute_result",
          "data": {
            "text/plain": [
              "{'input_ids': [165, 1479, 2],\n",
              " 'labels': [3452,\n",
              "  2650,\n",
              "  122,\n",
              "  4275,\n",
              "  81,\n",
              "  110,\n",
              "  178,\n",
              "  12083,\n",
              "  13,\n",
              "  14460,\n",
              "  6524,\n",
              "  4,\n",
              "  104,\n",
              "  2848,\n",
              "  364,\n",
              "  147,\n",
              "  3,\n",
              "  16,\n",
              "  178,\n",
              "  293,\n",
              "  3578,\n",
              "  11275,\n",
              "  22,\n",
              "  3966,\n",
              "  75,\n",
              "  1872,\n",
              "  3,\n",
              "  1219,\n",
              "  964,\n",
              "  17,\n",
              "  1343,\n",
              "  194,\n",
              "  291,\n",
              "  698,\n",
              "  5,\n",
              "  10,\n",
              "  22728,\n",
              "  232,\n",
              "  17,\n",
              "  16468,\n",
              "  158,\n",
              "  4,\n",
              "  929,\n",
              "  3,\n",
              "  31,\n",
              "  220,\n",
              "  5358,\n",
              "  1327,\n",
              "  9261,\n",
              "  19,\n",
              "  5,\n",
              "  10650,\n",
              "  3,\n",
              "  47,\n",
              "  178,\n",
              "  336,\n",
              "  622,\n",
              "  3578,\n",
              "  21351,\n",
              "  24,\n",
              "  26315,\n",
              "  7533,\n",
              "  5,\n",
              "  10,\n",
              "  7749,\n",
              "  276,\n",
              "  1533,\n",
              "  9,\n",
              "  51,\n",
              "  7003,\n",
              "  3,\n",
              "  2529,\n",
              "  1147,\n",
              "  31,\n",
              "  1321,\n",
              "  9,\n",
              "  901,\n",
              "  4,\n",
              "  4753,\n",
              "  12,\n",
              "  1200,\n",
              "  3051,\n",
              "  6,\n",
              "  155,\n",
              "  5,\n",
              "  10,\n",
              "  9515,\n",
              "  940,\n",
              "  426,\n",
              "  4,\n",
              "  2]}"
            ]
          },
          "metadata": {},
          "execution_count": 11
        }
      ]
    },
    {
      "cell_type": "code",
      "source": [
        "!pip install accelerate -U"
      ],
      "metadata": {
        "colab": {
          "base_uri": "https://localhost:8080/"
        },
        "id": "e3cMVSLcm_U1",
        "outputId": "ab50e847-91c7-441d-9bc4-e5050be3956f"
      },
      "execution_count": 12,
      "outputs": [
        {
          "output_type": "stream",
          "name": "stdout",
          "text": [
            "Requirement already satisfied: accelerate in /usr/local/lib/python3.10/dist-packages (0.22.0)\n",
            "Requirement already satisfied: numpy>=1.17 in /usr/local/lib/python3.10/dist-packages (from accelerate) (1.23.5)\n",
            "Requirement already satisfied: packaging>=20.0 in /usr/local/lib/python3.10/dist-packages (from accelerate) (23.1)\n",
            "Requirement already satisfied: psutil in /usr/local/lib/python3.10/dist-packages (from accelerate) (5.9.5)\n",
            "Requirement already satisfied: pyyaml in /usr/local/lib/python3.10/dist-packages (from accelerate) (6.0.1)\n",
            "Requirement already satisfied: torch>=1.10.0 in /usr/local/lib/python3.10/dist-packages (from accelerate) (2.0.1+cu118)\n",
            "Requirement already satisfied: filelock in /usr/local/lib/python3.10/dist-packages (from torch>=1.10.0->accelerate) (3.12.2)\n",
            "Requirement already satisfied: typing-extensions in /usr/local/lib/python3.10/dist-packages (from torch>=1.10.0->accelerate) (4.7.1)\n",
            "Requirement already satisfied: sympy in /usr/local/lib/python3.10/dist-packages (from torch>=1.10.0->accelerate) (1.12)\n",
            "Requirement already satisfied: networkx in /usr/local/lib/python3.10/dist-packages (from torch>=1.10.0->accelerate) (3.1)\n",
            "Requirement already satisfied: jinja2 in /usr/local/lib/python3.10/dist-packages (from torch>=1.10.0->accelerate) (3.1.2)\n",
            "Requirement already satisfied: triton==2.0.0 in /usr/local/lib/python3.10/dist-packages (from torch>=1.10.0->accelerate) (2.0.0)\n",
            "Requirement already satisfied: cmake in /usr/local/lib/python3.10/dist-packages (from triton==2.0.0->torch>=1.10.0->accelerate) (3.27.2)\n",
            "Requirement already satisfied: lit in /usr/local/lib/python3.10/dist-packages (from triton==2.0.0->torch>=1.10.0->accelerate) (16.0.6)\n",
            "Requirement already satisfied: MarkupSafe>=2.0 in /usr/local/lib/python3.10/dist-packages (from jinja2->torch>=1.10.0->accelerate) (2.1.3)\n",
            "Requirement already satisfied: mpmath>=0.19 in /usr/local/lib/python3.10/dist-packages (from sympy->torch>=1.10.0->accelerate) (1.3.0)\n"
          ]
        }
      ]
    },
    {
      "cell_type": "code",
      "source": [
        "from transformers import Seq2SeqTrainingArguments\n",
        "\n",
        "args = Seq2SeqTrainingArguments(\n",
        "    evaluation_strategy = 'epoch',\n",
        "    learning_rate = 2e-4,\n",
        "    per_device_train_batch_size = 16,\n",
        "    per_device_eval_batch_size = 16,\n",
        "    weight_decay = 0.01,\n",
        "    num_train_epochs = 3,\n",
        "    predict_with_generate = True,\n",
        "    push_to_hub = False,\n",
        "    output_dir = \"outputs\"\n",
        "\n",
        ")"
      ],
      "metadata": {
        "id": "NyaFqk33m2VI"
      },
      "execution_count": 13,
      "outputs": []
    },
    {
      "cell_type": "code",
      "source": [
        "from transformers import DataCollatorForSeq2Seq\n",
        "data_collator = DataCollatorForSeq2Seq(tokenizer, model = model)"
      ],
      "metadata": {
        "id": "jfaMUWkNnJHK"
      },
      "execution_count": 14,
      "outputs": []
    },
    {
      "cell_type": "code",
      "source": [
        "from transformers import Seq2SeqTrainer\n",
        "\n",
        "trainer = Seq2SeqTrainer(model,\n",
        "                        args,\n",
        "                        train_dataset = train_dataset,\n",
        "                        eval_dataset = test_dataset,\n",
        "                        data_collator = data_collator,\n",
        "                        tokenizer = tokenizer,)\n",
        "\n",
        "trainer.train()"
      ],
      "metadata": {
        "colab": {
          "base_uri": "https://localhost:8080/",
          "height": 245
        },
        "id": "2J6yr0YSnL6h",
        "outputId": "fa84fff2-b88f-4c76-cf58-b0bfdf730737"
      },
      "execution_count": 15,
      "outputs": [
        {
          "output_type": "stream",
          "name": "stderr",
          "text": [
            "You're using a T5TokenizerFast tokenizer. Please note that with a fast tokenizer, using the `__call__` method is faster than using a method to encode the text followed by a call to the `pad` method to get a padded encoding.\n"
          ]
        },
        {
          "output_type": "display_data",
          "data": {
            "text/plain": [
              "<IPython.core.display.HTML object>"
            ],
            "text/html": [
              "\n",
              "    <div>\n",
              "      \n",
              "      <progress value='11544' max='11544' style='width:300px; height:20px; vertical-align: middle;'></progress>\n",
              "      [11544/11544 2:06:10, Epoch 3/3]\n",
              "    </div>\n",
              "    <table border=\"1\" class=\"dataframe\">\n",
              "  <thead>\n",
              " <tr style=\"text-align: left;\">\n",
              "      <th>Epoch</th>\n",
              "      <th>Training Loss</th>\n",
              "      <th>Validation Loss</th>\n",
              "    </tr>\n",
              "  </thead>\n",
              "  <tbody>\n",
              "    <tr>\n",
              "      <td>1</td>\n",
              "      <td>3.124200</td>\n",
              "      <td>2.861024</td>\n",
              "    </tr>\n",
              "    <tr>\n",
              "      <td>2</td>\n",
              "      <td>2.913200</td>\n",
              "      <td>2.754408</td>\n",
              "    </tr>\n",
              "    <tr>\n",
              "      <td>3</td>\n",
              "      <td>2.794500</td>\n",
              "      <td>2.710234</td>\n",
              "    </tr>\n",
              "  </tbody>\n",
              "</table><p>"
            ]
          },
          "metadata": {}
        },
        {
          "output_type": "execute_result",
          "data": {
            "text/plain": [
              "TrainOutput(global_step=11544, training_loss=3.0148070937465317, metrics={'train_runtime': 7571.7741, 'train_samples_per_second': 24.39, 'train_steps_per_second': 1.525, 'total_flos': 868125373424640.0, 'train_loss': 3.0148070937465317, 'epoch': 3.0})"
            ]
          },
          "metadata": {},
          "execution_count": 15
        }
      ]
    },
    {
      "cell_type": "code",
      "source": [
        "pt_save_directory = \"t5\"\n",
        "tokenizer.save_pretrained(pt_save_directory)\n",
        "model.save_pretrained(pt_save_directory)"
      ],
      "metadata": {
        "id": "U8B9HkaX-WO1"
      },
      "execution_count": 16,
      "outputs": []
    }
  ]
}