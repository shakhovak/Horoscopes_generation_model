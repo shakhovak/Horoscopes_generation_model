{
 "cells": [
  {
   "cell_type": "code",
   "execution_count": 1,
   "metadata": {
    "cellId": "h5jcpx3zk1l04e6hgr33s0w",
    "id": "sk7PhHr8k3sJ"
   },
   "outputs": [],
   "source": [
    "import pandas as pd\n",
    "import numpy as np\n",
    "from sklearn import metrics\n",
    "import warnings\n",
    "warnings.filterwarnings(\"ignore\")"
   ]
  },
  {
   "cell_type": "code",
   "execution_count": 2,
   "metadata": {
    "cellId": "jeki18yw8xhi945wi3uwjj",
    "colab": {
     "base_uri": "https://localhost:8080/",
     "height": 423
    },
    "id": "JefDBs5DlXVk",
    "outputId": "fc6db50b-5262-4cf5-9a6e-eb70bfb3f419"
   },
   "outputs": [
    {
     "data": {
      "text/html": [
       "<div>\n",
       "<style scoped>\n",
       "    .dataframe tbody tr th:only-of-type {\n",
       "        vertical-align: middle;\n",
       "    }\n",
       "\n",
       "    .dataframe tbody tr th {\n",
       "        vertical-align: top;\n",
       "    }\n",
       "\n",
       "    .dataframe thead th {\n",
       "        text-align: right;\n",
       "    }\n",
       "</style>\n",
       "<table border=\"1\" class=\"dataframe\">\n",
       "  <thead>\n",
       "    <tr style=\"text-align: right;\">\n",
       "      <th></th>\n",
       "      <th>date</th>\n",
       "      <th>zodiac</th>\n",
       "      <th>horo</th>\n",
       "      <th>source</th>\n",
       "      <th>len</th>\n",
       "    </tr>\n",
       "  </thead>\n",
       "  <tbody>\n",
       "    <tr>\n",
       "      <th>50</th>\n",
       "      <td>2023-08-07</td>\n",
       "      <td>Овен</td>\n",
       "      <td>Сегодня Овнам стоит провести утро не просто сп...</td>\n",
       "      <td>https://horoscopes.rambler.ru</td>\n",
       "      <td>377</td>\n",
       "    </tr>\n",
       "    <tr>\n",
       "      <th>51</th>\n",
       "      <td>2023-08-07</td>\n",
       "      <td>Телец</td>\n",
       "      <td>Сегодня Тельцам стоит лениться до обеда  пусть...</td>\n",
       "      <td>https://horoscopes.rambler.ru</td>\n",
       "      <td>366</td>\n",
       "    </tr>\n",
       "    <tr>\n",
       "      <th>52</th>\n",
       "      <td>2023-08-07</td>\n",
       "      <td>Близнецы</td>\n",
       "      <td>Сегодня Близнецы думают только о деньгах  их н...</td>\n",
       "      <td>https://horoscopes.rambler.ru</td>\n",
       "      <td>374</td>\n",
       "    </tr>\n",
       "    <tr>\n",
       "      <th>53</th>\n",
       "      <td>2023-08-07</td>\n",
       "      <td>Рак</td>\n",
       "      <td>Сегодня Ракам стоит провести утро лениво  для ...</td>\n",
       "      <td>https://horoscopes.rambler.ru</td>\n",
       "      <td>365</td>\n",
       "    </tr>\n",
       "    <tr>\n",
       "      <th>54</th>\n",
       "      <td>2023-08-07</td>\n",
       "      <td>Лев</td>\n",
       "      <td>Сегодня у Львов есть возможность исполнить нес...</td>\n",
       "      <td>https://horoscopes.rambler.ru</td>\n",
       "      <td>354</td>\n",
       "    </tr>\n",
       "    <tr>\n",
       "      <th>...</th>\n",
       "      <td>...</td>\n",
       "      <td>...</td>\n",
       "      <td>...</td>\n",
       "      <td>...</td>\n",
       "      <td>...</td>\n",
       "    </tr>\n",
       "    <tr>\n",
       "      <th>256199</th>\n",
       "      <td>2023-08-30</td>\n",
       "      <td>Весы</td>\n",
       "      <td>Следите сегодня за всем, что происходит на раб...</td>\n",
       "      <td>https://astroscope.ru/horoskop/ejednevniy_goro...</td>\n",
       "      <td>453</td>\n",
       "    </tr>\n",
       "    <tr>\n",
       "      <th>256200</th>\n",
       "      <td>2023-08-30</td>\n",
       "      <td>Скорпион</td>\n",
       "      <td>Сегодня Скорпионов ждёт приятная встреча. Ныне...</td>\n",
       "      <td>https://astroscope.ru/horoskop/ejednevniy_goro...</td>\n",
       "      <td>451</td>\n",
       "    </tr>\n",
       "    <tr>\n",
       "      <th>256202</th>\n",
       "      <td>2023-08-30</td>\n",
       "      <td>Козерог</td>\n",
       "      <td>Постарайтесь сегодня, дорогие Козероги, быть в...</td>\n",
       "      <td>https://astroscope.ru/horoskop/ejednevniy_goro...</td>\n",
       "      <td>490</td>\n",
       "    </tr>\n",
       "    <tr>\n",
       "      <th>256203</th>\n",
       "      <td>2023-08-30</td>\n",
       "      <td>Водолей</td>\n",
       "      <td>День для Водолеев характеризуется неожиданными...</td>\n",
       "      <td>https://astroscope.ru/horoskop/ejednevniy_goro...</td>\n",
       "      <td>429</td>\n",
       "    </tr>\n",
       "    <tr>\n",
       "      <th>256204</th>\n",
       "      <td>2023-08-30</td>\n",
       "      <td>Рыбы</td>\n",
       "      <td>Удачный день, который пройдёт под знаком нравс...</td>\n",
       "      <td>https://astroscope.ru/horoskop/ejednevniy_goro...</td>\n",
       "      <td>396</td>\n",
       "    </tr>\n",
       "  </tbody>\n",
       "</table>\n",
       "<p>88741 rows × 5 columns</p>\n",
       "</div>"
      ],
      "text/plain": [
       "              date  ...  len\n",
       "50      2023-08-07  ...  377\n",
       "51      2023-08-07  ...  366\n",
       "52      2023-08-07  ...  374\n",
       "53      2023-08-07  ...  365\n",
       "54      2023-08-07  ...  354\n",
       "...            ...  ...  ...\n",
       "256199  2023-08-30  ...  453\n",
       "256200  2023-08-30  ...  451\n",
       "256202  2023-08-30  ...  490\n",
       "256203  2023-08-30  ...  429\n",
       "256204  2023-08-30  ...  396\n",
       "\n",
       "[88741 rows x 5 columns]"
      ]
     },
     "execution_count": 2,
     "metadata": {},
     "output_type": "execute_result"
    }
   ],
   "source": [
    "df = pd.read_csv('data/fin_horo.csv', sep = '#', index_col=0)\n",
    "df"
   ]
  },
  {
   "cell_type": "code",
   "execution_count": 3,
   "metadata": {
    "cellId": "9x8og8bwpju6buwg7eb0me",
    "colab": {
     "base_uri": "https://localhost:8080/"
    },
    "id": "KMOhOmUolyIl",
    "outputId": "0ad18479-fca6-4612-9c05-f488994ea221"
   },
   "outputs": [
    {
     "name": "stdout",
     "output_type": "stream",
     "text": [
      "Defaulting to user installation because normal site-packages is not writeable\n",
      "Requirement already satisfied: transformers in /usr/local/lib/python3.8/dist-packages (4.14.0)\n",
      "Requirement already satisfied: requests in /usr/local/lib/python3.8/dist-packages (from transformers) (2.22.0)\n",
      "Requirement already satisfied: pyyaml>=5.1 in /usr/local/lib/python3.8/dist-packages (from transformers) (5.3.1)\n",
      "Requirement already satisfied: tokenizers<0.11,>=0.10.1 in /usr/local/lib/python3.8/dist-packages (from transformers) (0.10.3)\n",
      "Requirement already satisfied: numpy>=1.17 in /usr/local/lib/python3.8/dist-packages (from transformers) (1.19.2)\n",
      "Requirement already satisfied: packaging>=20.0 in /kernel/lib/python3.8/site-packages (from transformers) (20.9)\n",
      "Requirement already satisfied: regex!=2019.12.17 in /usr/local/lib/python3.8/dist-packages (from transformers) (2021.11.10)\n",
      "Requirement already satisfied: tqdm>=4.27 in /usr/local/lib/python3.8/dist-packages (from transformers) (4.50.0)\n",
      "Requirement already satisfied: sacremoses in /usr/local/lib/python3.8/dist-packages (from transformers) (0.0.46)\n",
      "Requirement already satisfied: filelock in /usr/local/lib/python3.8/dist-packages (from transformers) (3.4.2)\n",
      "Requirement already satisfied: huggingface-hub<1.0,>=0.1.0 in /usr/local/lib/python3.8/dist-packages (from transformers) (0.2.1)\n",
      "Requirement already satisfied: typing-extensions>=3.7.4.3 in /usr/local/lib/python3.8/dist-packages (from huggingface-hub<1.0,>=0.1.0->transformers) (3.7.4.3)\n",
      "Requirement already satisfied: pyparsing>=2.0.2 in /kernel/lib/python3.8/site-packages (from packaging>=20.0->transformers) (2.4.7)\n",
      "Requirement already satisfied: urllib3!=1.25.0,!=1.25.1,<1.26,>=1.21.1 in /usr/local/lib/python3.8/dist-packages (from requests->transformers) (1.24.3)\n",
      "Requirement already satisfied: idna<2.9,>=2.5 in /usr/local/lib/python3.8/dist-packages (from requests->transformers) (2.8)\n",
      "Requirement already satisfied: chardet<3.1.0,>=3.0.2 in /usr/local/lib/python3.8/dist-packages (from requests->transformers) (3.0.4)\n",
      "Requirement already satisfied: certifi>=2017.4.17 in /kernel/lib/python3.8/site-packages (from requests->transformers) (2023.7.22)\n",
      "Requirement already satisfied: six in /kernel/lib/python3.8/site-packages (from sacremoses->transformers) (1.16.0)\n",
      "Requirement already satisfied: click in /usr/local/lib/python3.8/dist-packages (from sacremoses->transformers) (8.0.3)\n",
      "Requirement already satisfied: joblib in /usr/local/lib/python3.8/dist-packages (from sacremoses->transformers) (1.1.0)\n",
      "\u001b[33mWARNING: You are using pip version 21.3.1; however, version 23.2.1 is available.\n",
      "You should consider upgrading via the '/usr/local/bin/python3 -m pip install --upgrade pip' command.\u001b[0m\n"
     ]
    }
   ],
   "source": [
    "%pip install transformers"
   ]
  },
  {
   "cell_type": "code",
   "execution_count": 4,
   "metadata": {
    "cellId": "y03em4b2tfi6vfipikcci",
    "colab": {
     "base_uri": "https://localhost:8080/"
    },
    "id": "hjaJsn9xmHvh",
    "outputId": "94af0b72-eb91-4c21-8272-7d5f3656142f"
   },
   "outputs": [
    {
     "name": "stdout",
     "output_type": "stream",
     "text": [
      "Defaulting to user installation because normal site-packages is not writeable\n",
      "Requirement already satisfied: sentencepiece in /home/jupyter/.local/lib/python3.8/site-packages (0.1.99)\n",
      "\u001b[33mWARNING: You are using pip version 21.3.1; however, version 23.2.1 is available.\n",
      "You should consider upgrading via the '/usr/local/bin/python3 -m pip install --upgrade pip' command.\u001b[0m\n"
     ]
    }
   ],
   "source": [
    "%pip install sentencepiece"
   ]
  },
  {
   "cell_type": "code",
   "execution_count": 5,
   "metadata": {
    "cellId": "amat9k0oahqv5ob7awq5f9",
    "colab": {
     "base_uri": "https://localhost:8080/"
    },
    "id": "2zgvZNtz9aSq",
    "outputId": "5358a889-609d-48c3-9572-e629fcb01014"
   },
   "outputs": [
    {
     "data": {
      "text/plain": [
       "((62118, 2), (26623, 2))"
      ]
     },
     "execution_count": 5,
     "metadata": {},
     "output_type": "execute_result"
    }
   ],
   "source": [
    "from sklearn.model_selection import train_test_split\n",
    "\n",
    "train_df, val_df = train_test_split(df[['zodiac', 'horo']], test_size = 0.3,\n",
    "                                   random_state=42)\n",
    "train_df = train_df.reset_index(drop= True)\n",
    "val_df = val_df.reset_index(drop = True)\n",
    "train_df.shape, val_df.shape"
   ]
  },
  {
   "cell_type": "code",
   "execution_count": 6,
   "metadata": {
    "cellId": "tf8ayoa1yjbbmd17duwr18",
    "colab": {
     "base_uri": "https://localhost:8080/"
    },
    "id": "OMSTkebO9feZ",
    "outputId": "469d690f-fe49-4b44-cb53-821e17582c29"
   },
   "outputs": [
    {
     "data": {
      "text/plain": [
       "device(type='cuda')"
      ]
     },
     "execution_count": 6,
     "metadata": {},
     "output_type": "execute_result"
    }
   ],
   "source": [
    "#!g2.1\n",
    "import torch\n",
    "device = torch.device ('cuda' if torch.cuda.is_available() else 'cpu')\n",
    "device"
   ]
  },
  {
   "cell_type": "code",
   "execution_count": 7,
   "metadata": {
    "cellId": "w53u20is4arcfkv3ynhj",
    "id": "TKjAHpZG9jRc"
   },
   "outputs": [],
   "source": [
    "train_df = train_df.rename(columns = {'zodiac': 'source_text', 'horo':'target_text'})\n",
    "val_df = val_df.rename(columns = {'zodiac': 'source_text', 'horo':'target_text'})"
   ]
  },
  {
   "cell_type": "code",
   "execution_count": 8,
   "metadata": {
    "cellId": "gx6fxevyplj72lm9hbx8gy",
    "colab": {
     "base_uri": "https://localhost:8080/"
    },
    "id": "7UDIQqizlokA",
    "outputId": "b6c73f26-904c-4a3a-dc4b-f037d816ac01"
   },
   "outputs": [
    {
     "data": {
      "application/vnd.jupyter.widget-view+json": {
       "model_id": "abeeda7dbd73453c99a8271f9bb0356b",
       "version_major": 2,
       "version_minor": 0
      },
      "text/plain": [
       "HBox(children=(HTML(value='Downloading'), FloatProgress(value=0.0, max=636.0), HTML(value='')))"
      ]
     },
     "metadata": {},
     "output_type": "display_data"
    },
    {
     "name": "stdout",
     "output_type": "stream",
     "text": [
      "\n"
     ]
    },
    {
     "data": {
      "application/vnd.jupyter.widget-view+json": {
       "model_id": "b39c855393bd4627bf00b156e4137bb8",
       "version_major": 2,
       "version_minor": 0
      },
      "text/plain": [
       "HBox(children=(HTML(value='Downloading'), FloatProgress(value=0.0, max=1713123.0), HTML(value='')))"
      ]
     },
     "metadata": {},
     "output_type": "display_data"
    },
    {
     "name": "stdout",
     "output_type": "stream",
     "text": [
      "\n"
     ]
    },
    {
     "data": {
      "application/vnd.jupyter.widget-view+json": {
       "model_id": "85faa4d61702479dbb19eedc7aaeb4c0",
       "version_major": 2,
       "version_minor": 0
      },
      "text/plain": [
       "HBox(children=(HTML(value='Downloading'), FloatProgress(value=0.0, max=1270925.0), HTML(value='')))"
      ]
     },
     "metadata": {},
     "output_type": "display_data"
    },
    {
     "name": "stdout",
     "output_type": "stream",
     "text": [
      "\n"
     ]
    },
    {
     "data": {
      "application/vnd.jupyter.widget-view+json": {
       "model_id": "ed28f468b4ef40589c88bda6ec5995b9",
       "version_major": 2,
       "version_minor": 0
      },
      "text/plain": [
       "HBox(children=(HTML(value='Downloading'), FloatProgress(value=0.0, max=2501.0), HTML(value='')))"
      ]
     },
     "metadata": {},
     "output_type": "display_data"
    },
    {
     "name": "stdout",
     "output_type": "stream",
     "text": [
      "\n"
     ]
    },
    {
     "data": {
      "application/vnd.jupyter.widget-view+json": {
       "model_id": "a49ceef11aa64c7986ff096126475415",
       "version_major": 2,
       "version_minor": 0
      },
      "text/plain": [
       "HBox(children=(HTML(value='Downloading'), FloatProgress(value=0.0, max=360.0), HTML(value='')))"
      ]
     },
     "metadata": {},
     "output_type": "display_data"
    },
    {
     "name": "stdout",
     "output_type": "stream",
     "text": [
      "\n"
     ]
    },
    {
     "name": "stderr",
     "output_type": "stream",
     "text": [
      "Special tokens have been added in the vocabulary, make sure the associated word embeddings are fine-tuned or trained.\n"
     ]
    },
    {
     "data": {
      "application/vnd.jupyter.widget-view+json": {
       "model_id": "b0ca0c6fc9c24d74bfd31eda9a759cd5",
       "version_major": 2,
       "version_minor": 0
      },
      "text/plain": [
       "HBox(children=(HTML(value='Downloading'), FloatProgress(value=0.0, max=632.0), HTML(value='')))"
      ]
     },
     "metadata": {},
     "output_type": "display_data"
    },
    {
     "name": "stdout",
     "output_type": "stream",
     "text": [
      "\n"
     ]
    },
    {
     "data": {
      "application/vnd.jupyter.widget-view+json": {
       "model_id": "8612e3836d8d4e2d99ebfaa4b83dded7",
       "version_major": 2,
       "version_minor": 0
      },
      "text/plain": [
       "HBox(children=(HTML(value='Downloading'), FloatProgress(value=0.0, max=3282242213.0), HTML(value='')))"
      ]
     },
     "metadata": {},
     "output_type": "display_data"
    },
    {
     "name": "stdout",
     "output_type": "stream",
     "text": [
      "\n"
     ]
    }
   ],
   "source": [
    "#!g2.1\n",
    "from transformers import AutoTokenizer, AutoModelForSeq2SeqLM\n",
    "\n",
    "tokenizer = AutoTokenizer.from_pretrained(\"ai-forever/FRED-T5-large\")\n",
    "model = AutoModelForSeq2SeqLM.from_pretrained(\"ai-forever/FRED-T5-large\")"
   ]
  },
  {
   "cell_type": "markdown",
   "metadata": {
    "cellId": "rklh7u2l5oszklhhr1v88p",
    "execution_id": "74b3f06c-3595-41a2-999b-e1f8d58c5629",
    "id": "pyN667pq_VDg"
   },
   "source": [
    "# New Section"
   ]
  },
  {
   "cell_type": "code",
   "execution_count": 9,
   "metadata": {
    "cellId": "s390rtv017ur7bt1xqz1",
    "id": "_JNat2ExmKx1"
   },
   "outputs": [],
   "source": [
    "#!g2.1\n",
    "from torch.utils.data import Dataset\n",
    "class AdditionDataset(Dataset):\n",
    "    \"\"\"\n",
    "        \"\"\"\n",
    "\n",
    "    def __init__(self, sentences, targets, tokenizer, max_len):\n",
    "        self.tokenizer = tokenizer\n",
    "        self.max_len = max_len\n",
    "        self.sentences = sentences\n",
    "        self.targets = targets\n",
    "\n",
    "    def __len__(self):\n",
    "        return len(self.sentences)\n",
    "\n",
    "    def __getitem__(self, index):\n",
    "        sentence = str(self.sentences[index])\n",
    "        sentence = \" \".join(sentence.split())\n",
    "        target = self.targets[index]\n",
    "\n",
    "        inputs = self.tokenizer.encode_plus(\n",
    "            sentence\n",
    "                                )\n",
    "        return {\"input_ids\":self.tokenizer(sentence)['input_ids'], \"labels\":self.tokenizer(target)['input_ids']}\n",
    "\n"
   ]
  },
  {
   "cell_type": "code",
   "execution_count": 10,
   "metadata": {
    "cellId": "qca6gmabnvmpoom05umuyo",
    "colab": {
     "base_uri": "https://localhost:8080/"
    },
    "id": "ommOJiE0mzlw",
    "outputId": "860b8397-b28f-46dd-de3f-b5737660b32c"
   },
   "outputs": [
    {
     "data": {
      "text/plain": [
       "{'input_ids': [563, 3975, 14945],\n",
       " 'labels': [6039,\n",
       "  35947,\n",
       "  3062,\n",
       "  1749,\n",
       "  1747,\n",
       "  7606,\n",
       "  1855,\n",
       "  282,\n",
       "  11762,\n",
       "  30406,\n",
       "  3431,\n",
       "  304,\n",
       "  26708,\n",
       "  225,\n",
       "  745,\n",
       "  1747,\n",
       "  939,\n",
       "  1269,\n",
       "  3111,\n",
       "  16,\n",
       "  515,\n",
       "  3716,\n",
       "  1329,\n",
       "  322,\n",
       "  1747,\n",
       "  2240,\n",
       "  18,\n",
       "  3647,\n",
       "  17708,\n",
       "  281,\n",
       "  1714,\n",
       "  4220,\n",
       "  4127,\n",
       "  4220,\n",
       "  11206,\n",
       "  895,\n",
       "  19490,\n",
       "  3379,\n",
       "  36220,\n",
       "  536,\n",
       "  289,\n",
       "  4144,\n",
       "  3328,\n",
       "  16,\n",
       "  2391,\n",
       "  1882,\n",
       "  1223,\n",
       "  3379,\n",
       "  840,\n",
       "  5848,\n",
       "  9837,\n",
       "  1119,\n",
       "  282,\n",
       "  19552,\n",
       "  18]}"
      ]
     },
     "execution_count": 10,
     "metadata": {},
     "output_type": "execute_result"
    }
   ],
   "source": [
    "#!g2.1\n",
    "train_dataset = AdditionDataset(train_df['source_text'].tolist(),\n",
    "                                train_df['target_text'].tolist(), tokenizer, 500)\n",
    "test_dataset = AdditionDataset(val_df['source_text'].tolist(),\n",
    "                                val_df['target_text'].tolist(), tokenizer, 500)\n",
    "next(iter(test_dataset))"
   ]
  },
  {
   "cell_type": "code",
   "execution_count": 11,
   "metadata": {
    "cellId": "wfqqm0cimap7r5mzn9my8",
    "id": "NyaFqk33m2VI"
   },
   "outputs": [],
   "source": [
    "#!g2.1\n",
    "from transformers import Seq2SeqTrainingArguments\n",
    "\n",
    "args = Seq2SeqTrainingArguments(\n",
    "    evaluation_strategy = 'epoch',\n",
    "    learning_rate = 2e-4,\n",
    "    per_device_train_batch_size = 16,\n",
    "    per_device_eval_batch_size = 16,\n",
    "    weight_decay = 0.01,\n",
    "    num_train_epochs = 3,\n",
    "    predict_with_generate = True,\n",
    "    push_to_hub = False,\n",
    "    output_dir = \"outputs\",\n",
    "    save_steps = 12000\n",
    "\n",
    ")"
   ]
  },
  {
   "cell_type": "code",
   "execution_count": 12,
   "metadata": {
    "cellId": "81h5tkfw4rbf68d7wmz3i",
    "id": "jfaMUWkNnJHK"
   },
   "outputs": [],
   "source": [
    "#!g2.1\n",
    "from transformers import DataCollatorForSeq2Seq\n",
    "data_collator = DataCollatorForSeq2Seq(tokenizer, model = model)"
   ]
  },
  {
   "cell_type": "code",
   "execution_count": 13,
   "metadata": {
    "cellId": "jqga28gnsyrcht3cxyx1e",
    "colab": {
     "base_uri": "https://localhost:8080/",
     "height": 245
    },
    "id": "2J6yr0YSnL6h",
    "outputId": "fa84fff2-b88f-4c76-cf58-b0bfdf730737"
   },
   "outputs": [
    {
     "name": "stderr",
     "output_type": "stream",
     "text": [
      "***** Running training *****\n",
      "  Num examples = 62118\n",
      "  Num Epochs = 3\n",
      "  Instantaneous batch size per device = 16\n",
      "  Total train batch size (w. parallel, distributed & accumulation) = 16\n",
      "  Gradient Accumulation steps = 1\n",
      "  Total optimization steps = 11649\n"
     ]
    },
    {
     "data": {
      "text/html": [
       "\n",
       "    <div>\n",
       "      \n",
       "      <progress value='11649' max='11649' style='width:300px; height:20px; vertical-align: middle;'></progress>\n",
       "      [11649/11649 53:26, Epoch 3/3]\n",
       "    </div>\n",
       "    <table border=\"1\" class=\"dataframe\">\n",
       "  <thead>\n",
       "    <tr style=\"text-align: left;\">\n",
       "      <th>Epoch</th>\n",
       "      <th>Training Loss</th>\n",
       "      <th>Validation Loss</th>\n",
       "    </tr>\n",
       "  </thead>\n",
       "  <tbody>\n",
       "    <tr>\n",
       "      <td>1</td>\n",
       "      <td>2.817100</td>\n",
       "      <td>2.674166</td>\n",
       "    </tr>\n",
       "    <tr>\n",
       "      <td>2</td>\n",
       "      <td>2.676800</td>\n",
       "      <td>2.620472</td>\n",
       "    </tr>\n",
       "    <tr>\n",
       "      <td>3</td>\n",
       "      <td>2.607100</td>\n",
       "      <td>2.605619</td>\n",
       "    </tr>\n",
       "  </tbody>\n",
       "</table><p>"
      ],
      "text/plain": [
       "<IPython.core.display.HTML object>"
      ]
     },
     "metadata": {},
     "output_type": "display_data"
    },
    {
     "name": "stderr",
     "output_type": "stream",
     "text": [
      "***** Running Evaluation *****\n",
      "  Num examples = 26623\n",
      "  Batch size = 16\n",
      "***** Running Evaluation *****\n",
      "  Num examples = 26623\n",
      "  Batch size = 16\n",
      "***** Running Evaluation *****\n",
      "  Num examples = 26623\n",
      "  Batch size = 16\n",
      "\n",
      "\n",
      "Training completed. Do not forget to share your model on huggingface.co/models =)\n",
      "\n",
      "\n"
     ]
    },
    {
     "data": {
      "text/plain": [
       "TrainOutput(global_step=11649, training_loss=2.7398639698275806, metrics={'train_runtime': 3207.8813, 'train_samples_per_second': 58.093, 'train_steps_per_second': 3.631, 'total_flos': 8.942095143786086e+16, 'train_loss': 2.7398639698275806, 'epoch': 3.0})"
      ]
     },
     "execution_count": 13,
     "metadata": {},
     "output_type": "execute_result"
    }
   ],
   "source": [
    "#!g2.1\n",
    "from transformers import Seq2SeqTrainer\n",
    "\n",
    "trainer = Seq2SeqTrainer(model,\n",
    "                        args,\n",
    "                        train_dataset = train_dataset,\n",
    "                        eval_dataset = test_dataset,\n",
    "                        data_collator = data_collator,\n",
    "                        tokenizer = tokenizer,)\n",
    "\n",
    "trainer.train()"
   ]
  },
  {
   "cell_type": "code",
   "execution_count": null,
   "metadata": {
    "cellId": "p04g4wedh9g762voz8l2gi",
    "execution_id": "f28d1568-04c4-479e-9e9a-a3852c103adf",
    "id": "U8B9HkaX-WO1"
   },
   "outputs": [
    {
     "name": "stderr",
     "output_type": "stream",
     "text": [
      "tokenizer config file saved in Fred_t5/tokenizer_config.json\n",
      "Special tokens file saved in Fred_t5/special_tokens_map.json\n",
      "Configuration saved in Fred_t5/config.json\n"
     ]
    }
   ],
   "source": [
    "#!g2.1\n",
    "pt_save_directory = \"Fred_t5\"\n",
    "tokenizer.save_pretrained(pt_save_directory)\n",
    "model.save_pretrained(pt_save_directory)"
   ]
  }
 ],
 "metadata": {
  "accelerator": "GPU",
  "colab": {
   "authorship_tag": "ABX9TyPHEi/e9JyJufwjuX09qAgs",
   "gpuType": "T4",
   "provenance": []
  },
  "language_info": {
   "codemirror_mode": {
    "name": "ipython",
    "version": 3
   },
   "file_extension": ".py",
   "mimetype": "text/x-python",
   "name": "python",
   "nbconvert_exporter": "python",
   "pygments_lexer": "ipython3",
   "version": "3.7.7"
  },
  "notebookId": "02db6e0f-251c-4a56-8c8a-1a14d71ef4da",
  "notebookPath": "Horoscopes_generation_model/fred_t5_training.ipynb"
 },
 "nbformat": 4,
 "nbformat_minor": 4
}
