{
 "cells": [
  {
   "cell_type": "code",
   "execution_count": 1,
   "metadata": {
    "cellId": "h5jcpx3zk1l04e6hgr33s0w",
    "id": "sk7PhHr8k3sJ"
   },
   "outputs": [],
   "source": [
    "import pandas as pd\n",
    "import numpy as np\n",
    "from sklearn import metrics\n",
    "import warnings\n",
    "warnings.filterwarnings(\"ignore\")"
   ]
  },
  {
   "cell_type": "code",
   "execution_count": 2,
   "metadata": {
    "cellId": "jeki18yw8xhi945wi3uwjj",
    "colab": {
     "base_uri": "https://localhost:8080/",
     "height": 423
    },
    "id": "JefDBs5DlXVk",
    "outputId": "fc6db50b-5262-4cf5-9a6e-eb70bfb3f419"
   },
   "outputs": [
    {
     "data": {
      "text/html": [
       "<div>\n",
       "<style scoped>\n",
       "    .dataframe tbody tr th:only-of-type {\n",
       "        vertical-align: middle;\n",
       "    }\n",
       "\n",
       "    .dataframe tbody tr th {\n",
       "        vertical-align: top;\n",
       "    }\n",
       "\n",
       "    .dataframe thead th {\n",
       "        text-align: right;\n",
       "    }\n",
       "</style>\n",
       "<table border=\"1\" class=\"dataframe\">\n",
       "  <thead>\n",
       "    <tr style=\"text-align: right;\">\n",
       "      <th></th>\n",
       "      <th>date</th>\n",
       "      <th>zodiac</th>\n",
       "      <th>horo</th>\n",
       "      <th>source</th>\n",
       "      <th>len</th>\n",
       "    </tr>\n",
       "  </thead>\n",
       "  <tbody>\n",
       "    <tr>\n",
       "      <th>50</th>\n",
       "      <td>2023-08-07</td>\n",
       "      <td>Овен</td>\n",
       "      <td>Сегодня Овнам стоит провести утро не просто сп...</td>\n",
       "      <td>https://horoscopes.rambler.ru</td>\n",
       "      <td>377</td>\n",
       "    </tr>\n",
       "    <tr>\n",
       "      <th>51</th>\n",
       "      <td>2023-08-07</td>\n",
       "      <td>Телец</td>\n",
       "      <td>Сегодня Тельцам стоит лениться до обеда  пусть...</td>\n",
       "      <td>https://horoscopes.rambler.ru</td>\n",
       "      <td>366</td>\n",
       "    </tr>\n",
       "    <tr>\n",
       "      <th>52</th>\n",
       "      <td>2023-08-07</td>\n",
       "      <td>Близнецы</td>\n",
       "      <td>Сегодня Близнецы думают только о деньгах  их н...</td>\n",
       "      <td>https://horoscopes.rambler.ru</td>\n",
       "      <td>374</td>\n",
       "    </tr>\n",
       "    <tr>\n",
       "      <th>53</th>\n",
       "      <td>2023-08-07</td>\n",
       "      <td>Рак</td>\n",
       "      <td>Сегодня Ракам стоит провести утро лениво  для ...</td>\n",
       "      <td>https://horoscopes.rambler.ru</td>\n",
       "      <td>365</td>\n",
       "    </tr>\n",
       "    <tr>\n",
       "      <th>54</th>\n",
       "      <td>2023-08-07</td>\n",
       "      <td>Лев</td>\n",
       "      <td>Сегодня у Львов есть возможность исполнить нес...</td>\n",
       "      <td>https://horoscopes.rambler.ru</td>\n",
       "      <td>354</td>\n",
       "    </tr>\n",
       "    <tr>\n",
       "      <th>...</th>\n",
       "      <td>...</td>\n",
       "      <td>...</td>\n",
       "      <td>...</td>\n",
       "      <td>...</td>\n",
       "      <td>...</td>\n",
       "    </tr>\n",
       "    <tr>\n",
       "      <th>256199</th>\n",
       "      <td>2023-08-30</td>\n",
       "      <td>Весы</td>\n",
       "      <td>Следите сегодня за всем, что происходит на раб...</td>\n",
       "      <td>https://astroscope.ru/horoskop/ejednevniy_goro...</td>\n",
       "      <td>453</td>\n",
       "    </tr>\n",
       "    <tr>\n",
       "      <th>256200</th>\n",
       "      <td>2023-08-30</td>\n",
       "      <td>Скорпион</td>\n",
       "      <td>Сегодня Скорпионов ждёт приятная встреча. Ныне...</td>\n",
       "      <td>https://astroscope.ru/horoskop/ejednevniy_goro...</td>\n",
       "      <td>451</td>\n",
       "    </tr>\n",
       "    <tr>\n",
       "      <th>256202</th>\n",
       "      <td>2023-08-30</td>\n",
       "      <td>Козерог</td>\n",
       "      <td>Постарайтесь сегодня, дорогие Козероги, быть в...</td>\n",
       "      <td>https://astroscope.ru/horoskop/ejednevniy_goro...</td>\n",
       "      <td>490</td>\n",
       "    </tr>\n",
       "    <tr>\n",
       "      <th>256203</th>\n",
       "      <td>2023-08-30</td>\n",
       "      <td>Водолей</td>\n",
       "      <td>День для Водолеев характеризуется неожиданными...</td>\n",
       "      <td>https://astroscope.ru/horoskop/ejednevniy_goro...</td>\n",
       "      <td>429</td>\n",
       "    </tr>\n",
       "    <tr>\n",
       "      <th>256204</th>\n",
       "      <td>2023-08-30</td>\n",
       "      <td>Рыбы</td>\n",
       "      <td>Удачный день, который пройдёт под знаком нравс...</td>\n",
       "      <td>https://astroscope.ru/horoskop/ejednevniy_goro...</td>\n",
       "      <td>396</td>\n",
       "    </tr>\n",
       "  </tbody>\n",
       "</table>\n",
       "<p>88741 rows × 5 columns</p>\n",
       "</div>"
      ],
      "text/plain": [
       "              date  ...  len\n",
       "50      2023-08-07  ...  377\n",
       "51      2023-08-07  ...  366\n",
       "52      2023-08-07  ...  374\n",
       "53      2023-08-07  ...  365\n",
       "54      2023-08-07  ...  354\n",
       "...            ...  ...  ...\n",
       "256199  2023-08-30  ...  453\n",
       "256200  2023-08-30  ...  451\n",
       "256202  2023-08-30  ...  490\n",
       "256203  2023-08-30  ...  429\n",
       "256204  2023-08-30  ...  396\n",
       "\n",
       "[88741 rows x 5 columns]"
      ]
     },
     "execution_count": 2,
     "metadata": {},
     "output_type": "execute_result"
    }
   ],
   "source": [
    "df = pd.read_csv('data/fin_horo.csv', sep = '#', index_col=0)\n",
    "df"
   ]
  },
  {
   "cell_type": "code",
   "execution_count": 3,
   "metadata": {
    "cellId": "9x8og8bwpju6buwg7eb0me",
    "colab": {
     "base_uri": "https://localhost:8080/"
    },
    "id": "KMOhOmUolyIl",
    "outputId": "0ad18479-fca6-4612-9c05-f488994ea221"
   },
   "outputs": [
    {
     "name": "stdout",
     "output_type": "stream",
     "text": [
      "Defaulting to user installation because normal site-packages is not writeable\n",
      "Requirement already satisfied: transformers in /usr/local/lib/python3.8/dist-packages (4.14.0)\n",
      "Requirement already satisfied: requests in /usr/local/lib/python3.8/dist-packages (from transformers) (2.22.0)\n",
      "Requirement already satisfied: pyyaml>=5.1 in /usr/local/lib/python3.8/dist-packages (from transformers) (5.3.1)\n",
      "Requirement already satisfied: tokenizers<0.11,>=0.10.1 in /usr/local/lib/python3.8/dist-packages (from transformers) (0.10.3)\n",
      "Requirement already satisfied: packaging>=20.0 in /kernel/lib/python3.8/site-packages (from transformers) (20.9)\n",
      "Requirement already satisfied: huggingface-hub<1.0,>=0.1.0 in /usr/local/lib/python3.8/dist-packages (from transformers) (0.2.1)\n",
      "Requirement already satisfied: filelock in /usr/local/lib/python3.8/dist-packages (from transformers) (3.4.2)\n",
      "Requirement already satisfied: sacremoses in /usr/local/lib/python3.8/dist-packages (from transformers) (0.0.46)\n",
      "Requirement already satisfied: regex!=2019.12.17 in /usr/local/lib/python3.8/dist-packages (from transformers) (2021.11.10)\n",
      "Requirement already satisfied: numpy>=1.17 in /usr/local/lib/python3.8/dist-packages (from transformers) (1.19.2)\n",
      "Requirement already satisfied: tqdm>=4.27 in /usr/local/lib/python3.8/dist-packages (from transformers) (4.50.0)\n",
      "Requirement already satisfied: typing-extensions>=3.7.4.3 in /usr/local/lib/python3.8/dist-packages (from huggingface-hub<1.0,>=0.1.0->transformers) (3.7.4.3)\n",
      "Requirement already satisfied: pyparsing>=2.0.2 in /kernel/lib/python3.8/site-packages (from packaging>=20.0->transformers) (2.4.7)\n",
      "Requirement already satisfied: chardet<3.1.0,>=3.0.2 in /usr/local/lib/python3.8/dist-packages (from requests->transformers) (3.0.4)\n",
      "Requirement already satisfied: urllib3!=1.25.0,!=1.25.1,<1.26,>=1.21.1 in /usr/local/lib/python3.8/dist-packages (from requests->transformers) (1.24.3)\n",
      "Requirement already satisfied: idna<2.9,>=2.5 in /usr/local/lib/python3.8/dist-packages (from requests->transformers) (2.8)\n",
      "Requirement already satisfied: certifi>=2017.4.17 in /kernel/lib/python3.8/site-packages (from requests->transformers) (2023.7.22)\n",
      "Requirement already satisfied: click in /usr/local/lib/python3.8/dist-packages (from sacremoses->transformers) (8.0.3)\n",
      "Requirement already satisfied: joblib in /usr/local/lib/python3.8/dist-packages (from sacremoses->transformers) (1.1.0)\n",
      "Requirement already satisfied: six in /kernel/lib/python3.8/site-packages (from sacremoses->transformers) (1.16.0)\n",
      "\u001b[33mWARNING: You are using pip version 21.3.1; however, version 23.2.1 is available.\n",
      "You should consider upgrading via the '/usr/local/bin/python3 -m pip install --upgrade pip' command.\u001b[0m\n"
     ]
    }
   ],
   "source": [
    "%pip install transformers"
   ]
  },
  {
   "cell_type": "code",
   "execution_count": 4,
   "metadata": {
    "cellId": "y03em4b2tfi6vfipikcci",
    "colab": {
     "base_uri": "https://localhost:8080/"
    },
    "id": "hjaJsn9xmHvh",
    "outputId": "94af0b72-eb91-4c21-8272-7d5f3656142f"
   },
   "outputs": [
    {
     "name": "stdout",
     "output_type": "stream",
     "text": [
      "Defaulting to user installation because normal site-packages is not writeable\n",
      "Requirement already satisfied: sentencepiece in /home/jupyter/.local/lib/python3.8/site-packages (0.1.99)\n",
      "\u001b[33mWARNING: You are using pip version 21.3.1; however, version 23.2.1 is available.\n",
      "You should consider upgrading via the '/usr/local/bin/python3 -m pip install --upgrade pip' command.\u001b[0m\n"
     ]
    }
   ],
   "source": [
    "%pip install sentencepiece"
   ]
  },
  {
   "cell_type": "code",
   "execution_count": 5,
   "metadata": {
    "cellId": "amat9k0oahqv5ob7awq5f9",
    "colab": {
     "base_uri": "https://localhost:8080/"
    },
    "id": "2zgvZNtz9aSq",
    "outputId": "5358a889-609d-48c3-9572-e629fcb01014"
   },
   "outputs": [
    {
     "data": {
      "text/plain": [
       "((62118, 2), (26623, 2))"
      ]
     },
     "execution_count": 5,
     "metadata": {},
     "output_type": "execute_result"
    }
   ],
   "source": [
    "from sklearn.model_selection import train_test_split\n",
    "\n",
    "train_df, val_df = train_test_split(df[['zodiac', 'horo']], test_size = 0.3,\n",
    "                                   random_state=42)\n",
    "train_df = train_df.reset_index(drop= True)\n",
    "val_df = val_df.reset_index(drop = True)\n",
    "train_df.shape, val_df.shape"
   ]
  },
  {
   "cell_type": "code",
   "execution_count": 6,
   "metadata": {
    "cellId": "tf8ayoa1yjbbmd17duwr18",
    "colab": {
     "base_uri": "https://localhost:8080/"
    },
    "id": "OMSTkebO9feZ",
    "outputId": "469d690f-fe49-4b44-cb53-821e17582c29"
   },
   "outputs": [
    {
     "data": {
      "text/plain": [
       "device(type='cuda')"
      ]
     },
     "execution_count": 6,
     "metadata": {},
     "output_type": "execute_result"
    }
   ],
   "source": [
    "#!g2.1\n",
    "import torch\n",
    "device = torch.device ('cuda' if torch.cuda.is_available() else 'cpu')\n",
    "device"
   ]
  },
  {
   "cell_type": "code",
   "execution_count": 7,
   "metadata": {
    "cellId": "w53u20is4arcfkv3ynhj",
    "id": "TKjAHpZG9jRc"
   },
   "outputs": [],
   "source": [
    "train_df = train_df.rename(columns = {'zodiac': 'source_text', 'horo':'target_text'})\n",
    "val_df = val_df.rename(columns = {'zodiac': 'source_text', 'horo':'target_text'})"
   ]
  },
  {
   "cell_type": "code",
   "execution_count": 8,
   "metadata": {
    "cellId": "gx6fxevyplj72lm9hbx8gy",
    "colab": {
     "base_uri": "https://localhost:8080/"
    },
    "id": "7UDIQqizlokA",
    "outputId": "b6c73f26-904c-4a3a-dc4b-f037d816ac01"
   },
   "outputs": [
    {
     "data": {
      "application/vnd.jupyter.widget-view+json": {
       "model_id": "9e7e2f0055544b4ca236db70f5360afa",
       "version_major": 2,
       "version_minor": 0
      },
      "text/plain": [
       "HBox(children=(HTML(value='Downloading'), FloatProgress(value=0.0, max=376.0), HTML(value='')))"
      ]
     },
     "metadata": {},
     "output_type": "display_data"
    },
    {
     "name": "stdout",
     "output_type": "stream",
     "text": [
      "\n"
     ]
    },
    {
     "data": {
      "application/vnd.jupyter.widget-view+json": {
       "model_id": "8373d38a8c024bf2abd10c9147bc8382",
       "version_major": 2,
       "version_minor": 0
      },
      "text/plain": [
       "HBox(children=(HTML(value='Downloading'), FloatProgress(value=0.0, max=642.0), HTML(value='')))"
      ]
     },
     "metadata": {},
     "output_type": "display_data"
    },
    {
     "name": "stdout",
     "output_type": "stream",
     "text": [
      "\n"
     ]
    },
    {
     "data": {
      "application/vnd.jupyter.widget-view+json": {
       "model_id": "6fdb6f139885404dacc1e1b3a3dd099d",
       "version_major": 2,
       "version_minor": 0
      },
      "text/plain": [
       "HBox(children=(HTML(value='Downloading'), FloatProgress(value=0.0, max=4309802.0), HTML(value='')))"
      ]
     },
     "metadata": {},
     "output_type": "display_data"
    },
    {
     "name": "stdout",
     "output_type": "stream",
     "text": [
      "\n"
     ]
    },
    {
     "data": {
      "application/vnd.jupyter.widget-view+json": {
       "model_id": "84d0e4d76bfe49319c3de5be3ad5cc0d",
       "version_major": 2,
       "version_minor": 0
      },
      "text/plain": [
       "HBox(children=(HTML(value='Downloading'), FloatProgress(value=0.0, max=65.0), HTML(value='')))"
      ]
     },
     "metadata": {},
     "output_type": "display_data"
    },
    {
     "name": "stdout",
     "output_type": "stream",
     "text": [
      "\n"
     ]
    },
    {
     "data": {
      "application/vnd.jupyter.widget-view+json": {
       "model_id": "fb6841701f98401a9de9af5796c04cae",
       "version_major": 2,
       "version_minor": 0
      },
      "text/plain": [
       "HBox(children=(HTML(value='Downloading'), FloatProgress(value=0.0, max=4918584617.0), HTML(value='')))"
      ]
     },
     "metadata": {},
     "output_type": "display_data"
    },
    {
     "name": "stdout",
     "output_type": "stream",
     "text": [
      "\n"
     ]
    }
   ],
   "source": [
    "#!g2.1\n",
    "from transformers import AutoTokenizer, AutoModelForSeq2SeqLM\n",
    "\n",
    "tokenizer = AutoTokenizer.from_pretrained(\"google/mt5-large\")\n",
    "model = AutoModelForSeq2SeqLM.from_pretrained(\"google/mt5-large\")"
   ]
  },
  {
   "cell_type": "markdown",
   "metadata": {
    "cellId": "rklh7u2l5oszklhhr1v88p",
    "execution_id": "fa7be420-a8e5-406e-b2a7-7c76161b44c2",
    "id": "pyN667pq_VDg"
   },
   "source": [
    "# New Section"
   ]
  },
  {
   "cell_type": "code",
   "execution_count": 9,
   "metadata": {
    "cellId": "s390rtv017ur7bt1xqz1",
    "id": "_JNat2ExmKx1"
   },
   "outputs": [],
   "source": [
    "#!g2.1\n",
    "from torch.utils.data import Dataset\n",
    "class AdditionDataset(Dataset):\n",
    "    \"\"\"\n",
    "        \"\"\"\n",
    "\n",
    "    def __init__(self, sentences, targets, tokenizer, max_len):\n",
    "        self.tokenizer = tokenizer\n",
    "        self.max_len = max_len\n",
    "        self.sentences = sentences\n",
    "        self.targets = targets\n",
    "\n",
    "    def __len__(self):\n",
    "        return len(self.sentences)\n",
    "\n",
    "    def __getitem__(self, index):\n",
    "        sentence = str(self.sentences[index])\n",
    "        sentence = \" \".join(sentence.split())\n",
    "        target = self.targets[index]\n",
    "\n",
    "        inputs = self.tokenizer.encode_plus(\n",
    "            sentence\n",
    "                                )\n",
    "        return {\"input_ids\":self.tokenizer(sentence)['input_ids'], \"labels\":self.tokenizer(target)['input_ids']}\n",
    "\n"
   ]
  },
  {
   "cell_type": "code",
   "execution_count": 10,
   "metadata": {
    "cellId": "qca6gmabnvmpoom05umuyo",
    "colab": {
     "base_uri": "https://localhost:8080/"
    },
    "id": "ommOJiE0mzlw",
    "outputId": "860b8397-b28f-46dd-de3f-b5737660b32c"
   },
   "outputs": [
    {
     "data": {
      "text/plain": [
       "{'input_ids': [112443, 131615, 1],\n",
       " 'labels': [6464,\n",
       "  36555,\n",
       "  60680,\n",
       "  19764,\n",
       "  10884,\n",
       "  5723,\n",
       "  587,\n",
       "  115215,\n",
       "  25101,\n",
       "  315,\n",
       "  259,\n",
       "  112122,\n",
       "  62321,\n",
       "  121489,\n",
       "  1646,\n",
       "  188240,\n",
       "  55346,\n",
       "  89931,\n",
       "  9264,\n",
       "  259,\n",
       "  3266,\n",
       "  5723,\n",
       "  587,\n",
       "  259,\n",
       "  5711,\n",
       "  3752,\n",
       "  26126,\n",
       "  833,\n",
       "  261,\n",
       "  1767,\n",
       "  259,\n",
       "  31257,\n",
       "  279,\n",
       "  259,\n",
       "  668,\n",
       "  10994,\n",
       "  401,\n",
       "  5723,\n",
       "  587,\n",
       "  259,\n",
       "  9249,\n",
       "  260,\n",
       "  3348,\n",
       "  1108,\n",
       "  259,\n",
       "  114138,\n",
       "  388,\n",
       "  13704,\n",
       "  3440,\n",
       "  259,\n",
       "  80515,\n",
       "  543,\n",
       "  95416,\n",
       "  39212,\n",
       "  120255,\n",
       "  279,\n",
       "  259,\n",
       "  3331,\n",
       "  28804,\n",
       "  4902,\n",
       "  635,\n",
       "  1344,\n",
       "  3800,\n",
       "  7224,\n",
       "  62702,\n",
       "  259,\n",
       "  279,\n",
       "  259,\n",
       "  180254,\n",
       "  2587,\n",
       "  261,\n",
       "  425,\n",
       "  10005,\n",
       "  259,\n",
       "  15354,\n",
       "  315,\n",
       "  17309,\n",
       "  635,\n",
       "  1344,\n",
       "  259,\n",
       "  4466,\n",
       "  923,\n",
       "  10289,\n",
       "  259,\n",
       "  18307,\n",
       "  1044,\n",
       "  1764,\n",
       "  8625,\n",
       "  315,\n",
       "  259,\n",
       "  162407,\n",
       "  171055,\n",
       "  260,\n",
       "  1]}"
      ]
     },
     "execution_count": 10,
     "metadata": {},
     "output_type": "execute_result"
    }
   ],
   "source": [
    "#!g2.1\n",
    "train_dataset = AdditionDataset(train_df['source_text'].tolist(),\n",
    "                                train_df['target_text'].tolist(), tokenizer, 500)\n",
    "test_dataset = AdditionDataset(val_df['source_text'].tolist(),\n",
    "                                val_df['target_text'].tolist(), tokenizer, 500)\n",
    "next(iter(test_dataset))"
   ]
  },
  {
   "cell_type": "code",
   "execution_count": 11,
   "metadata": {
    "cellId": "wfqqm0cimap7r5mzn9my8",
    "id": "NyaFqk33m2VI"
   },
   "outputs": [],
   "source": [
    "#!g2.1\n",
    "from transformers import Seq2SeqTrainingArguments\n",
    "\n",
    "args = Seq2SeqTrainingArguments(\n",
    "    evaluation_strategy = 'epoch',\n",
    "    learning_rate = 2e-4,\n",
    "    per_device_train_batch_size = 16,\n",
    "    per_device_eval_batch_size = 16,\n",
    "    weight_decay = 0.01,\n",
    "    num_train_epochs = 3,\n",
    "    predict_with_generate = True,\n",
    "    push_to_hub = False,\n",
    "    output_dir = \"outputs\",\n",
    "    save_steps = 12000\n",
    "\n",
    ")"
   ]
  },
  {
   "cell_type": "code",
   "execution_count": 12,
   "metadata": {
    "cellId": "81h5tkfw4rbf68d7wmz3i",
    "id": "jfaMUWkNnJHK"
   },
   "outputs": [],
   "source": [
    "#!g2.1\n",
    "from transformers import DataCollatorForSeq2Seq\n",
    "data_collator = DataCollatorForSeq2Seq(tokenizer, model = model)"
   ]
  },
  {
   "cell_type": "code",
   "execution_count": 13,
   "metadata": {
    "cellId": "jqga28gnsyrcht3cxyx1e",
    "colab": {
     "base_uri": "https://localhost:8080/",
     "height": 245
    },
    "id": "2J6yr0YSnL6h",
    "outputId": "fa84fff2-b88f-4c76-cf58-b0bfdf730737"
   },
   "outputs": [
    {
     "name": "stderr",
     "output_type": "stream",
     "text": [
      "***** Running training *****\n",
      "  Num examples = 62118\n",
      "  Num Epochs = 3\n",
      "  Instantaneous batch size per device = 16\n",
      "  Total train batch size (w. parallel, distributed & accumulation) = 16\n",
      "  Gradient Accumulation steps = 1\n",
      "  Total optimization steps = 11649\n"
     ]
    },
    {
     "data": {
      "text/html": [
       "\n",
       "    <div>\n",
       "      \n",
       "      <progress value='11649' max='11649' style='width:300px; height:20px; vertical-align: middle;'></progress>\n",
       "      [11649/11649 1:08:46, Epoch 3/3]\n",
       "    </div>\n",
       "    <table border=\"1\" class=\"dataframe\">\n",
       "  <thead>\n",
       "    <tr style=\"text-align: left;\">\n",
       "      <th>Epoch</th>\n",
       "      <th>Training Loss</th>\n",
       "      <th>Validation Loss</th>\n",
       "    </tr>\n",
       "  </thead>\n",
       "  <tbody>\n",
       "    <tr>\n",
       "      <td>1</td>\n",
       "      <td>2.433900</td>\n",
       "      <td>2.185020</td>\n",
       "    </tr>\n",
       "    <tr>\n",
       "      <td>2</td>\n",
       "      <td>2.256700</td>\n",
       "      <td>2.095857</td>\n",
       "    </tr>\n",
       "    <tr>\n",
       "      <td>3</td>\n",
       "      <td>2.170000</td>\n",
       "      <td>2.065218</td>\n",
       "    </tr>\n",
       "  </tbody>\n",
       "</table><p>"
      ],
      "text/plain": [
       "<IPython.core.display.HTML object>"
      ]
     },
     "metadata": {},
     "output_type": "display_data"
    },
    {
     "name": "stderr",
     "output_type": "stream",
     "text": [
      "***** Running Evaluation *****\n",
      "  Num examples = 26623\n",
      "  Batch size = 16\n",
      "***** Running Evaluation *****\n",
      "  Num examples = 26623\n",
      "  Batch size = 16\n",
      "***** Running Evaluation *****\n",
      "  Num examples = 26623\n",
      "  Batch size = 16\n",
      "\n",
      "\n",
      "Training completed. Do not forget to share your model on huggingface.co/models =)\n",
      "\n",
      "\n"
     ]
    },
    {
     "data": {
      "text/plain": [
       "TrainOutput(global_step=11649, training_loss=2.3824656255071854, metrics={'train_runtime': 4133.995, 'train_samples_per_second': 45.078, 'train_steps_per_second': 2.818, 'total_flos': 1.677137506338816e+17, 'train_loss': 2.3824656255071854, 'epoch': 3.0})"
      ]
     },
     "execution_count": 13,
     "metadata": {},
     "output_type": "execute_result"
    }
   ],
   "source": [
    "#!g2.1\n",
    "from transformers import Seq2SeqTrainer\n",
    "\n",
    "trainer = Seq2SeqTrainer(model,\n",
    "                        args,\n",
    "                        train_dataset = train_dataset,\n",
    "                        eval_dataset = test_dataset,\n",
    "                        data_collator = data_collator,\n",
    "                        tokenizer = tokenizer,)\n",
    "\n",
    "trainer.train()"
   ]
  },
  {
   "cell_type": "code",
   "execution_count": 14,
   "metadata": {
    "cellId": "p04g4wedh9g762voz8l2gi",
    "id": "U8B9HkaX-WO1"
   },
   "outputs": [
    {
     "name": "stderr",
     "output_type": "stream",
     "text": [
      "tokenizer config file saved in mt5/tokenizer_config.json\n",
      "Special tokens file saved in mt5/special_tokens_map.json\n",
      "Copy vocab file to mt5/spiece.model\n",
      "Configuration saved in mt5/config.json\n",
      "Model weights saved in mt5/pytorch_model.bin\n"
     ]
    }
   ],
   "source": [
    "#!g2.1\n",
    "pt_save_directory = \"mt5\"\n",
    "tokenizer.save_pretrained(pt_save_directory)\n",
    "model.save_pretrained(pt_save_directory)"
   ]
  }
 ],
 "metadata": {
  "accelerator": "GPU",
  "colab": {
   "authorship_tag": "ABX9TyPHEi/e9JyJufwjuX09qAgs",
   "gpuType": "T4",
   "provenance": []
  },
  "language_info": {
   "codemirror_mode": {
    "name": "ipython",
    "version": 3
   },
   "file_extension": ".py",
   "mimetype": "text/x-python",
   "name": "python",
   "nbconvert_exporter": "python",
   "pygments_lexer": "ipython3",
   "version": "3.7.7"
  },
  "notebookId": "02db6e0f-251c-4a56-8c8a-1a14d71ef4da",
  "notebookPath": "Horoscopes_generation_model/t5_training.ipynb"
 },
 "nbformat": 4,
 "nbformat_minor": 4
}
