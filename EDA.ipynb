{
 "cells": [
  {
   "cell_type": "code",
   "execution_count": 1,
   "id": "8da833b8",
   "metadata": {},
   "outputs": [],
   "source": [
    "import pandas as pd\n",
    "import numpy as np\n",
    "from sklearn import metrics\n",
    "import warnings\n",
    "warnings.filterwarnings(\"ignore\")"
   ]
  },
  {
   "cell_type": "code",
   "execution_count": 2,
   "id": "5ff108e2",
   "metadata": {},
   "outputs": [
    {
     "data": {
      "text/html": [
       "<div>\n",
       "<style scoped>\n",
       "    .dataframe tbody tr th:only-of-type {\n",
       "        vertical-align: middle;\n",
       "    }\n",
       "\n",
       "    .dataframe tbody tr th {\n",
       "        vertical-align: top;\n",
       "    }\n",
       "\n",
       "    .dataframe thead th {\n",
       "        text-align: right;\n",
       "    }\n",
       "</style>\n",
       "<table border=\"1\" class=\"dataframe\">\n",
       "  <thead>\n",
       "    <tr style=\"text-align: right;\">\n",
       "      <th></th>\n",
       "      <th>date</th>\n",
       "      <th>zodiac</th>\n",
       "      <th>horo</th>\n",
       "      <th>source</th>\n",
       "    </tr>\n",
       "  </thead>\n",
       "  <tbody>\n",
       "    <tr>\n",
       "      <th>0</th>\n",
       "      <td>2023-08-06</td>\n",
       "      <td>Овен</td>\n",
       "      <td>Намерения ваши прекрасны, но время для их осущ...</td>\n",
       "      <td>https://74.ru/horoscope/daily/</td>\n",
       "    </tr>\n",
       "    <tr>\n",
       "      <th>1</th>\n",
       "      <td>2023-08-06</td>\n",
       "      <td>Телец</td>\n",
       "      <td>Ваше сострадание и понимание бесконечны. Вы по...</td>\n",
       "      <td>https://74.ru/horoscope/daily/</td>\n",
       "    </tr>\n",
       "    <tr>\n",
       "      <th>2</th>\n",
       "      <td>2023-08-06</td>\n",
       "      <td>Близнецы</td>\n",
       "      <td>Небольшое неудобство, которое вам придется пре...</td>\n",
       "      <td>https://74.ru/horoscope/daily/</td>\n",
       "    </tr>\n",
       "    <tr>\n",
       "      <th>3</th>\n",
       "      <td>2023-08-06</td>\n",
       "      <td>Рак</td>\n",
       "      <td>Привычные глазу лица и предметы вряд ли смогут...</td>\n",
       "      <td>https://74.ru/horoscope/daily/</td>\n",
       "    </tr>\n",
       "    <tr>\n",
       "      <th>4</th>\n",
       "      <td>2023-08-06</td>\n",
       "      <td>Лев</td>\n",
       "      <td>Сегодня вы будете равным среди великих. У вас ...</td>\n",
       "      <td>https://74.ru/horoscope/daily/</td>\n",
       "    </tr>\n",
       "    <tr>\n",
       "      <th>...</th>\n",
       "      <td>...</td>\n",
       "      <td>...</td>\n",
       "      <td>...</td>\n",
       "      <td>...</td>\n",
       "    </tr>\n",
       "    <tr>\n",
       "      <th>256200</th>\n",
       "      <td>2023-08-30</td>\n",
       "      <td>Скорпион</td>\n",
       "      <td>Сегодня Скорпионов ждёт приятная встреча. Ныне...</td>\n",
       "      <td>https://astroscope.ru/horoskop/ejednevniy_goro...</td>\n",
       "    </tr>\n",
       "    <tr>\n",
       "      <th>256201</th>\n",
       "      <td>2023-08-30</td>\n",
       "      <td>Стрелец</td>\n",
       "      <td>Дорогие Стрельцы, гороскоп на сегодня обещает ...</td>\n",
       "      <td>https://astroscope.ru/horoskop/ejednevniy_goro...</td>\n",
       "    </tr>\n",
       "    <tr>\n",
       "      <th>256202</th>\n",
       "      <td>2023-08-30</td>\n",
       "      <td>Козерог</td>\n",
       "      <td>Постарайтесь сегодня, дорогие Козероги, быть в...</td>\n",
       "      <td>https://astroscope.ru/horoskop/ejednevniy_goro...</td>\n",
       "    </tr>\n",
       "    <tr>\n",
       "      <th>256203</th>\n",
       "      <td>2023-08-30</td>\n",
       "      <td>Водолей</td>\n",
       "      <td>День для Водолеев характеризуется неожиданными...</td>\n",
       "      <td>https://astroscope.ru/horoskop/ejednevniy_goro...</td>\n",
       "    </tr>\n",
       "    <tr>\n",
       "      <th>256204</th>\n",
       "      <td>2023-08-30</td>\n",
       "      <td>Рыбы</td>\n",
       "      <td>Удачный день, который пройдёт под знаком нравс...</td>\n",
       "      <td>https://astroscope.ru/horoskop/ejednevniy_goro...</td>\n",
       "    </tr>\n",
       "  </tbody>\n",
       "</table>\n",
       "<p>256205 rows × 4 columns</p>\n",
       "</div>"
      ],
      "text/plain": [
       "              date    zodiac  \\\n",
       "0       2023-08-06      Овен   \n",
       "1       2023-08-06     Телец   \n",
       "2       2023-08-06  Близнецы   \n",
       "3       2023-08-06       Рак   \n",
       "4       2023-08-06       Лев   \n",
       "...            ...       ...   \n",
       "256200  2023-08-30  Скорпион   \n",
       "256201  2023-08-30   Стрелец   \n",
       "256202  2023-08-30   Козерог   \n",
       "256203  2023-08-30   Водолей   \n",
       "256204  2023-08-30      Рыбы   \n",
       "\n",
       "                                                     horo  \\\n",
       "0       Намерения ваши прекрасны, но время для их осущ...   \n",
       "1       Ваше сострадание и понимание бесконечны. Вы по...   \n",
       "2       Небольшое неудобство, которое вам придется пре...   \n",
       "3       Привычные глазу лица и предметы вряд ли смогут...   \n",
       "4       Сегодня вы будете равным среди великих. У вас ...   \n",
       "...                                                   ...   \n",
       "256200  Сегодня Скорпионов ждёт приятная встреча. Ныне...   \n",
       "256201  Дорогие Стрельцы, гороскоп на сегодня обещает ...   \n",
       "256202  Постарайтесь сегодня, дорогие Козероги, быть в...   \n",
       "256203  День для Водолеев характеризуется неожиданными...   \n",
       "256204  Удачный день, который пройдёт под знаком нравс...   \n",
       "\n",
       "                                                   source  \n",
       "0                          https://74.ru/horoscope/daily/  \n",
       "1                          https://74.ru/horoscope/daily/  \n",
       "2                          https://74.ru/horoscope/daily/  \n",
       "3                          https://74.ru/horoscope/daily/  \n",
       "4                          https://74.ru/horoscope/daily/  \n",
       "...                                                   ...  \n",
       "256200  https://astroscope.ru/horoskop/ejednevniy_goro...  \n",
       "256201  https://astroscope.ru/horoskop/ejednevniy_goro...  \n",
       "256202  https://astroscope.ru/horoskop/ejednevniy_goro...  \n",
       "256203  https://astroscope.ru/horoskop/ejednevniy_goro...  \n",
       "256204  https://astroscope.ru/horoskop/ejednevniy_goro...  \n",
       "\n",
       "[256205 rows x 4 columns]"
      ]
     },
     "execution_count": 2,
     "metadata": {},
     "output_type": "execute_result"
    }
   ],
   "source": [
    "df = pd.read_csv('C:/Users/Kate/Desktop/Docker/sqlite/horo1.csv')\n",
    "df"
   ]
  },
  {
   "cell_type": "code",
   "execution_count": 3,
   "id": "c29778d8",
   "metadata": {},
   "outputs": [
    {
     "data": {
      "text/plain": [
       "Водолей                     22523\n",
       "Весы                        22431\n",
       "Дева                        22221\n",
       "Рыбы                        21957\n",
       "Близнецы                    21939\n",
       "Козерог                     21806\n",
       "Телец                       21574\n",
       "Стрелец                     21562\n",
       "Скорпион                    21556\n",
       "Рак                         21535\n",
       "Овен                        20775\n",
       "Лев                         16278\n",
       "Гороскоп на сегодня            24\n",
       "Для всех знаков зодиака.       23\n",
       "Name: zodiac, dtype: int64"
      ]
     },
     "execution_count": 3,
     "metadata": {},
     "output_type": "execute_result"
    }
   ],
   "source": [
    "df['zodiac'].value_counts()"
   ]
  },
  {
   "cell_type": "code",
   "execution_count": 4,
   "id": "8b824bb1",
   "metadata": {},
   "outputs": [],
   "source": [
    "df = df[df['zodiac'] != 'Гороскоп на сегодня']\n",
    "df = df[df['zodiac'] != 'Для всех знаков зодиака.']"
   ]
  },
  {
   "cell_type": "code",
   "execution_count": 5,
   "id": "7f69f420",
   "metadata": {},
   "outputs": [],
   "source": [
    "df['horo'] = df['horo'].apply(lambda x: str(x).split('\\xa0')[0])"
   ]
  },
  {
   "cell_type": "code",
   "execution_count": 6,
   "id": "87d41b9c",
   "metadata": {},
   "outputs": [],
   "source": [
    "import re\n",
    "df['horo'] = df['horo'].apply(lambda x: x.replace('\\n', ''))\n",
    "df['horo'] = df['horo'].apply(lambda x: x.replace('\\xa0', ''))\n",
    "df['horo'] = df['horo'].apply(lambda x: re.sub(re.compile('[^а-яА-ЯЁё !.,:?;«»]'), '', x ))"
   ]
  },
  {
   "cell_type": "code",
   "execution_count": 7,
   "id": "a954189b",
   "metadata": {},
   "outputs": [
    {
     "data": {
      "image/png": "[encoded data removed]",
      "text/plain": [
       "<Figure size 640x480 with 1 Axes>"
      ]
     },
     "metadata": {},
     "output_type": "display_data"
    }
   ],
   "source": [
    "import matplotlib.pyplot as plt\n",
    "plt.title('Длина предложений')\n",
    "plt.hist(list(map(len, df['horo'])), bins=30)\n",
    "plt.show()"
   ]
  },
  {
   "cell_type": "code",
   "execution_count": 8,
   "id": "9150567f",
   "metadata": {},
   "outputs": [],
   "source": [
    "df['len'] = df['horo'].apply(lambda x: len(x))"
   ]
  },
  {
   "cell_type": "code",
   "execution_count": 9,
   "id": "788c98f4",
   "metadata": {},
   "outputs": [],
   "source": [
    "df = df[df['len'] > 300]"
   ]
  },
  {
   "cell_type": "code",
   "execution_count": 10,
   "id": "eefdb73a",
   "metadata": {},
   "outputs": [
    {
     "data": {
      "image/png": "[encoded data removed]",
      "text/plain": [
       "<Figure size 640x480 with 1 Axes>"
      ]
     },
     "metadata": {},
     "output_type": "display_data"
    }
   ],
   "source": [
    "plt.title('Длина предложений')\n",
    "plt.hist(list(map(len, df['horo'])), bins=30)\n",
    "plt.show()"
   ]
  },
  {
   "cell_type": "code",
   "execution_count": 11,
   "id": "1e7abdab",
   "metadata": {},
   "outputs": [],
   "source": [
    "df = df[df['len'] < 500]"
   ]
  },
  {
   "cell_type": "code",
   "execution_count": 12,
   "id": "42705a31",
   "metadata": {},
   "outputs": [
    {
     "data": {
      "image/png": "[encoded data removed]",
      "text/plain": [
       "<Figure size 640x480 with 1 Axes>"
      ]
     },
     "metadata": {},
     "output_type": "display_data"
    }
   ],
   "source": [
    "plt.title('Длина предложений')\n",
    "plt.hist(list(map(len, df['horo'])), bins=30)\n",
    "plt.show()"
   ]
  },
  {
   "cell_type": "code",
   "execution_count": 13,
   "id": "6d632f98",
   "metadata": {},
   "outputs": [
    {
     "name": "stdout",
     "output_type": "stream",
     "text": [
      "<class 'pandas.core.frame.DataFrame'>\n",
      "Int64Index: 91740 entries, 50 to 256204\n",
      "Data columns (total 5 columns):\n",
      " #   Column  Non-Null Count  Dtype \n",
      "---  ------  --------------  ----- \n",
      " 0   date    91740 non-null  object\n",
      " 1   zodiac  91740 non-null  object\n",
      " 2   horo    91740 non-null  object\n",
      " 3   source  91740 non-null  object\n",
      " 4   len     91740 non-null  int64 \n",
      "dtypes: int64(1), object(4)\n",
      "memory usage: 4.2+ MB\n"
     ]
    }
   ],
   "source": [
    "df.info()"
   ]
  },
  {
   "cell_type": "code",
   "execution_count": 14,
   "id": "c61ba3e1",
   "metadata": {},
   "outputs": [],
   "source": [
    "df = df.drop_duplicates(subset='horo', keep = 'first', inplace = False)"
   ]
  },
  {
   "cell_type": "code",
   "execution_count": 15,
   "id": "3dadb93e",
   "metadata": {},
   "outputs": [
    {
     "name": "stdout",
     "output_type": "stream",
     "text": [
      "<class 'pandas.core.frame.DataFrame'>\n",
      "Int64Index: 88741 entries, 50 to 256204\n",
      "Data columns (total 5 columns):\n",
      " #   Column  Non-Null Count  Dtype \n",
      "---  ------  --------------  ----- \n",
      " 0   date    88741 non-null  object\n",
      " 1   zodiac  88741 non-null  object\n",
      " 2   horo    88741 non-null  object\n",
      " 3   source  88741 non-null  object\n",
      " 4   len     88741 non-null  int64 \n",
      "dtypes: int64(1), object(4)\n",
      "memory usage: 4.1+ MB\n"
     ]
    }
   ],
   "source": [
    "df.info()"
   ]
  },
  {
   "cell_type": "code",
   "execution_count": 16,
   "id": "6ca963f4",
   "metadata": {},
   "outputs": [
    {
     "data": {
      "text/plain": [
       "Рыбы        7714\n",
       "Близнецы    7705\n",
       "Козерог     7689\n",
       "Скорпион    7671\n",
       "Телец       7618\n",
       "Рак         7591\n",
       "Стрелец     7591\n",
       "Водолей     7577\n",
       "Весы        7546\n",
       "Дева        7538\n",
       "Овен        7272\n",
       "Лев         5229\n",
       "Name: zodiac, dtype: int64"
      ]
     },
     "execution_count": 16,
     "metadata": {},
     "output_type": "execute_result"
    }
   ],
   "source": [
    "df['zodiac'].value_counts()"
   ]
  },
  {
   "cell_type": "code",
   "execution_count": 17,
   "id": "47691b54",
   "metadata": {},
   "outputs": [],
   "source": [
    "df.to_csv('fin_horo.csv', sep = '#')"
   ]
  }
 ],
 "metadata": {
  "kernelspec": {
   "display_name": "Python 3 (ipykernel)",
   "language": "python",
   "name": "python3"
  },
  "language_info": {
   "codemirror_mode": {
    "name": "ipython",
    "version": 3
   },
   "file_extension": ".py",
   "mimetype": "text/x-python",
   "name": "python",
   "nbconvert_exporter": "python",
   "pygments_lexer": "ipython3",
   "version": "3.9.13"
  }
 },
 "nbformat": 4,
 "nbformat_minor": 5
}
